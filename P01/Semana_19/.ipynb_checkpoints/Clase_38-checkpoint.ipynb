{
 "cells": [
  {
   "cell_type": "markdown",
   "id": "00869cdd",
   "metadata": {},
   "source": [
    "# Reconocedor facial mediante puntos clave\n",
    "\n",
    "Pasos:\n",
    "\n",
    "* Paso 1 : Detectar las caras a partir de modelos definidos en OpenCV.\n",
    "\n",
    "* Paso 2 : Definición y entrenamiento de una Red Neuronal Convolucional (CNN) en Keras.\n",
    "\n",
    "* Paso 3 : Aplicar el conocimiento de la CNN a cada una de las caras detectadas en las imágenes en el Paso 1"
   ]
  },
  {
   "cell_type": "markdown",
   "id": "4d375c1e",
   "metadata": {},
   "source": [
    "# Open CV\n",
    "\n",
    "* libreria : https://pypi.org/project/opencv-python/\n",
    "* Usos: https://www.inesem.es/revistadigital/informatica-y-tics/opencv/"
   ]
  },
  {
   "cell_type": "code",
   "execution_count": 3,
   "id": "788e37fa",
   "metadata": {},
   "outputs": [
    {
     "name": "stdout",
     "output_type": "stream",
     "text": [
      "Collecting opencv-python\n",
      "  Downloading opencv_python-4.10.0.82-cp37-abi3-win_amd64.whl (38.8 MB)\n",
      "     ---------------------------------------- 38.8/38.8 MB 2.4 MB/s eta 0:00:00\n",
      "Requirement already satisfied: numpy>=1.19.3 in c:\\users\\joseb\\anaconda3\\lib\\site-packages (from opencv-python) (1.26.4)\n",
      "Installing collected packages: opencv-python\n",
      "Successfully installed opencv-python-4.10.0.82\n"
     ]
    }
   ],
   "source": [
    "import sys\n",
    "!{sys.executable} -m pip install opencv-python"
   ]
  },
  {
   "cell_type": "code",
   "execution_count": 5,
   "id": "6581f220",
   "metadata": {},
   "outputs": [],
   "source": [
    "import warnings\n",
    "warnings.filterwarnings('ignore')\n",
    "import numpy as np\n",
    "import matplotlib.pyplot as plt\n",
    "%matplotlib inline\n",
    "import math\n",
    "import cv2                     # OpenCV library for computer vision\n",
    "from PIL import Image\n",
    "import time\n",
    "\n",
    "from keras.models import load_model\n",
    "\n",
    "\n",
    "# Auxiliary functions\n",
    "\n",
    "def read_image(path):\n",
    "    image = cv2.imread(path)\n",
    "    image = cv2.cvtColor(image, cv2.COLOR_BGR2RGB)\n",
    "    return image\n",
    "\n",
    "def plot_image(image, title=''):\n",
    "    fig = plt.figure(figsize = (8,8))\n",
    "    ax1 = fig.add_subplot(111)\n",
    "    ax1.set_xticks([])\n",
    "    ax1.set_yticks([])\n",
    "\n",
    "    ax1.set_title(title)\n",
    "    ax1.imshow(image)"
   ]
  },
  {
   "cell_type": "markdown",
   "id": "e73463c3",
   "metadata": {},
   "source": [
    "# Paso 1: Detectar las caras a partir de modelos definidos en OpenCV\n",
    "\n",
    "* get_faces: A partir de una imagen se devuelve el conjunto de caras detectadas\n",
    "* plot_faces: Muestra las caras detectadas sobre la imagen original"
   ]
  },
  {
   "cell_type": "code",
   "execution_count": 6,
   "id": "5e60037a",
   "metadata": {},
   "outputs": [],
   "source": [
    "def get_faces(image):\n",
    "    \"\"\"\n",
    "    Devuelve un array con las caras detectadas en una imagen\n",
    "    Cada cara se define como lo hace OpenCV: x superior izquierda,\n",
    "    y superior izquierda, anchura y altura.\n",
    "    \"\"\"\n",
    "    # To avoid overwriting\n",
    "    image_copy = np.copy(image)\n",
    "    \n",
    "    # The filter works with grayscale images\n",
    "    gray = cv2.cvtColor(image_copy, cv2.COLOR_RGB2GRAY)\n",
    "\n",
    "    # Extract the pre-trained face detector from an xml file\n",
    "    face_classifier = cv2.CascadeClassifier('detectors/haarcascade_frontalface_default.xml')\n",
    "    \n",
    "    # Detect the faces in image\n",
    "    faces = face_classifier.detectMultiScale(gray, 1.2, 5)\n",
    "    \n",
    "    return faces \n",
    "\n",
    "def draw_faces(image, faces=None, plot=True):\n",
    "    \"\"\"\n",
    "    It plots an image with its detected faces. If faces is None, it calculates the faces too\n",
    "    \"\"\"\n",
    "    if faces is None:\n",
    "        faces = get_faces(image)\n",
    "    \n",
    "    # To avoid overwriting\n",
    "    image_with_faces = np.copy(image)\n",
    "    \n",
    "    # Get the bounding box for each detected face\n",
    "    for (x,y,w,h) in faces:\n",
    "        # Add a red bounding box to the detections image\n",
    "        cv2.rectangle(image_with_faces, (x,y), (x+w,y+h), (255,0,0), 3)\n",
    "        \n",
    "    if plot is True:\n",
    "        plot_image(image_with_faces)\n",
    "    else:\n",
    "        return image_with_faces\n",
    "    \n",
    "    \n",
    "\n",
    "def plot_image_with_keypoints(image, image_info):\n",
    "    \"\"\"\n",
    "    It plots keypoints given in (x,y) format\n",
    "    \"\"\"\n",
    "    fig = plt.figure(figsize = (8,8))\n",
    "    ax1 = fig.add_subplot(111)\n",
    "    \n",
    "    for (face, keypoints) in image_info:\n",
    "        for (x,y) in keypoints:\n",
    "            ax1.scatter(x, y, marker='o', c='c', s=10)\n",
    "   \n",
    "\n",
    "    ax1.set_xticks([])\n",
    "    ax1.set_yticks([])\n",
    "    ax1.imshow(image)\n",
    "\n",
    "    "
   ]
  },
  {
   "cell_type": "code",
   "execution_count": null,
   "id": "340852c5",
   "metadata": {},
   "outputs": [],
   "source": [
    "image = read_image('images/breaking_bad.jpg')\n",
    "faces = get_faces(image)\n",
    "print(\"Faces detected: {}\".format(len(faces)))\n",
    "draw_faces(image, faces)"
   ]
  }
 ],
 "metadata": {
  "kernelspec": {
   "display_name": "Python 3 (ipykernel)",
   "language": "python",
   "name": "python3"
  },
  "language_info": {
   "codemirror_mode": {
    "name": "ipython",
    "version": 3
   },
   "file_extension": ".py",
   "mimetype": "text/x-python",
   "name": "python",
   "nbconvert_exporter": "python",
   "pygments_lexer": "ipython3",
   "version": "3.9.13"
  }
 },
 "nbformat": 4,
 "nbformat_minor": 5
}
