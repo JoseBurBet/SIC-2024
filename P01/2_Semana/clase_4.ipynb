{
 "cells": [
  {
   "cell_type": "code",
   "execution_count": 1,
   "id": "1e9a6f8f",
   "metadata": {},
   "outputs": [
    {
     "name": "stdout",
     "output_type": "stream",
     "text": [
      "aisleisy virgilio\n",
      "aisleisy victoria\n",
      "aisleisy sergio\n",
      "aisleisy ruben\n",
      "aisleisy miguel\n",
      "alba virgilio\n",
      "alba victoria\n",
      "alba sergio\n",
      "alba ruben\n",
      "alba miguel\n",
      "aldahir virgilio\n",
      "aldahir victoria\n",
      "aldahir sergio\n",
      "aldahir ruben\n",
      "aldahir miguel\n",
      "alejandro virgilio\n",
      "alejandro victoria\n",
      "alejandro sergio\n",
      "alejandro ruben\n",
      "alejandro miguel\n",
      "ana virgilio\n",
      "ana victoria\n",
      "ana sergio\n",
      "ana ruben\n",
      "ana miguel\n"
     ]
    }
   ],
   "source": [
    "l1=[\"aisleisy\",\"alba\",\"aldahir\",\"alejandro\",\"ana\"]\n",
    "l2=[\"virgilio\",\"victoria\",\"sergio\",\"ruben\",\"miguel\"]\n",
    "\n",
    "for i in l1:\n",
    "    for j in l2 :\n",
    "        print(i,j)"
   ]
  },
  {
   "cell_type": "code",
   "execution_count": 18,
   "id": "0947611c",
   "metadata": {},
   "outputs": [
    {
     "name": "stdout",
     "output_type": "stream",
     "text": [
      "[2, 7, 2, 0, 3, 7, 3, 8, 2, 4, 6, 8, 8, 3, 6, 2, 6, 5, 9]\n",
      "[2, 2, 0, 3, 7, 3, 7, 2, 4, 6, 8, 8, 3, 6, 2, 6, 5, 8, 9]\n",
      "[2, 0, 2, 3, 3, 7, 2, 4, 6, 7, 8, 3, 6, 2, 6, 5, 8, 8, 9]\n",
      "[0, 2, 2, 3, 3, 2, 4, 6, 7, 7, 3, 6, 2, 6, 5, 8, 8, 8, 9]\n"
     ]
    }
   ],
   "source": [
    "#ordenamiento tipo burbuja\n",
    "\n",
    "lista=[7,2,8,2,0,3,7,3,9,2,4,6,8,8,3,6,2,6,5]\n",
    "#lista.sort()\n",
    "#print(lista)\n",
    "minimo=min(lista)\n",
    "while lista[0] != minimo: \n",
    "    for i in range (0,len(lista)-1):\n",
    "        #print(i)\n",
    "        if lista[i]>lista[i+1]:\n",
    "            lista[i],lista[i+1]=lista[i+1],lista[i] # intercambia los valores\n",
    "    print(lista)\n",
    "\n"
   ]
  },
  {
   "cell_type": "code",
   "execution_count": 19,
   "id": "cb461242",
   "metadata": {},
   "outputs": [
    {
     "name": "stdout",
     "output_type": "stream",
     "text": [
      "[('aisleisy', 1234), ('alba', 3456), ('aldahir', 4567), ('alejandro', 234), ('ana', 567)]\n"
     ]
    }
   ],
   "source": [
    "nombres=[\"aisleisy\",\"alba\",\"aldahir\",\"alejandro\",\"ana\"]\n",
    "ident=[1234,3456,4567,234,567]\n",
    "\n",
    "pares_datos=list(zip(nombres,ident))\n",
    "print(pares_datos)"
   ]
  },
  {
   "cell_type": "code",
   "execution_count": 33,
   "id": "af4e5fc2",
   "metadata": {},
   "outputs": [
    {
     "name": "stdout",
     "output_type": "stream",
     "text": [
      "91.66666666666667\n",
      "promedio2 es:  91.66666666666667\n",
      "dict_values([80, 95, 100])\n",
      "dict_keys(['mate', 'espa', 'py'])\n"
     ]
    }
   ],
   "source": [
    "ruben={\"mate\":80,\"espa\":95,\"py\":100}\n",
    "\n",
    "nota_mate=ruben[\"mate\"]\n",
    "nota_espa=ruben[\"espa\"]\n",
    "nota_py=ruben[\"py\"]\n",
    "total_notas=len(ruben)\n",
    "\n",
    "promedio=(nota_mate+nota_espa+nota_py)/total_notas\n",
    "print(promedio)\n",
    "\n",
    "promedio2=sum(ruben.values())/len(ruben)\n",
    "\n",
    "print(\"promedio2 es: \", promedio2)\n",
    "print(ruben.values())\n",
    "keys=ruben.keys()\n",
    "print(keys)"
   ]
  }
 ],
 "metadata": {
  "kernelspec": {
   "display_name": "Python 3 (ipykernel)",
   "language": "python",
   "name": "python3"
  },
  "language_info": {
   "codemirror_mode": {
    "name": "ipython",
    "version": 3
   },
   "file_extension": ".py",
   "mimetype": "text/x-python",
   "name": "python",
   "nbconvert_exporter": "python",
   "pygments_lexer": "ipython3",
   "version": "3.9.13"
  }
 },
 "nbformat": 4,
 "nbformat_minor": 5
}
