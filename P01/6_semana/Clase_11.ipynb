{
 "cells": [
  {
   "cell_type": "markdown",
   "id": "43db8b1a",
   "metadata": {},
   "source": [
    "# Enfoque greedy\n",
    "\n",
    "El enfoque greedy, también conocido como algoritmo de búsqueda en profundidad (DFS), es una estrategia de resolución de problemas que consiste en tomar la decisión óptima en cada paso local con la esperanza de que al final, la solución general sea óptima. Sin embargo, este enfoque no siempre garantiza una solución óptima, especialmente en problemas donde las soluciones locales óptimas no implican una solución óptima general.\n",
    "\n",
    "En resumen, el enfoque greedy es una estrategia de resolución de problemas que puede ser útil en muchos casos, pero no garantiza una solución óptima en todos los casos.\n",
    "\n",
    "\n",
    "Se utiliza para todos los ejercicios en lso cuales yo descompongo la solucion en soluciones parciales"
   ]
  },
  {
   "cell_type": "markdown",
   "id": "4a89448e",
   "metadata": {},
   "source": [
    "### Pasos a tener en cuenta\n",
    "\n",
    "1. Seleccion: \n",
    "    Se selecciona el mejor elemento que se añade al conjunto de soluciones. CONDICION\n",
    "2. Comprobación de la viabilidad:\n",
    "    En otras palabras, se examina si el mejor elemento seleccionado en la etapa actual es apropiado para ser la respuesta.\n",
    "3. Comprobación de la solución:\n",
    "     En otras palabras, se examina si la solucion parcial en la etapa actual es la respuesta al problema.\n",
    "\n"
   ]
  },
  {
   "cell_type": "markdown",
   "id": "49a103be",
   "metadata": {},
   "source": [
    "## Ejemplo de cambio de monedas"
   ]
  },
  {
   "cell_type": "code",
   "execution_count": 5,
   "id": "0ea165a0",
   "metadata": {},
   "outputs": [
    {
     "name": "stdout",
     "output_type": "stream",
     "text": [
      "Ingrese el valor que desea cambiar: 870\n",
      "el cambio es: [500, 100, 100, 100, 50, 10, 10] \n",
      "con 7 monedas \n"
     ]
    }
   ],
   "source": [
    "def coin_change(coins,amount):\n",
    "    changes=[] #las monedas que voy añadiendo a la solucion\n",
    "    largest=0  # contador para recorrer la lista de elementos coins\n",
    "    \n",
    "    while amount > 0 :\n",
    "        if amount < coins[largest]: # verifica si la moneda mas grande NO cabe en amount\n",
    "            largest +=1\n",
    "        else:\n",
    "            changes.append(coins[largest]) # agrega la moneda mas grande que cabe\n",
    "            amount -= coins[largest]\n",
    "    return changes\n",
    "\n",
    "coins=[500,100,50,10] # lista de los elementos que componen la solucion\n",
    "amount= int(input(\"Ingrese el valor que desea cambiar: \"))\n",
    "changes=coin_change(coins,amount)\n",
    "print(f\"el cambio es: {changes} \\ncon {len(changes)} monedas \")\n",
    "        "
   ]
  },
  {
   "cell_type": "markdown",
   "id": "207902ee",
   "metadata": {},
   "source": [
    "#  Seleccion de disponibilidad de salas"
   ]
  },
  {
   "cell_type": "code",
   "execution_count": 4,
   "id": "ec40c56d",
   "metadata": {},
   "outputs": [
    {
     "name": "stdout",
     "output_type": "stream",
     "text": [
      "reuniones con id :[0, 1, 4, 5]  \n",
      "se pueden agendar maximo 4 reuniones\n"
     ]
    }
   ],
   "source": [
    "def activity_selection1(start,finish):\n",
    "    result=[]\n",
    "    i=0\n",
    "    result.append(i) #la actividad 0 fue preseleccionada\n",
    "    for j in range(1,len(start)):\n",
    "        if finish[i] <= start[j]:\n",
    "            result.append(j)\n",
    "            i=j\n",
    "    return result\n",
    "\n",
    "start= [1,3,2,0,5,7,5]\n",
    "finish=[2,4,5,6,6,9,9]\n",
    "meetings=activity_selection1(start,finish)\n",
    "maximun=len(meetings)\n",
    "print(f\"reuniones con id :{meetings}  \\nse pueden agendar maximo {maximun} reuniones\")"
   ]
  },
  {
   "cell_type": "markdown",
   "id": "293921a7",
   "metadata": {},
   "source": [
    "# Backtracking\n",
    "\n",
    "Un algoritmo de backtracking es una técnica de búsqueda sistemática que se utiliza para resolver problemas mediante la exploración recursiva de todas las posibles soluciones. \n",
    "\n",
    "backtracking en Python para resolver un Sudoku"
   ]
  },
  {
   "cell_type": "code",
   "execution_count": 14,
   "id": "b2ca78a6",
   "metadata": {},
   "outputs": [
    {
     "name": "stdout",
     "output_type": "stream",
     "text": [
      "[3, 2, 7, 9, 4, 8, 5, 1, 6]\n",
      "[1, 6, 8, 7, 2, 5, 3, 9, 4]\n",
      "[9, 4, 5, 6, 1, 3, 8, 2, 7]\n",
      "[4, 3, 2, 8, 9, 7, 6, 5, 1]\n",
      "[7, 8, 1, 4, 5, 6, 2, 3, 9]\n",
      "[6, 5, 9, 1, 3, 2, 7, 4, 8]\n",
      "[8, 9, 3, 2, 6, 1, 4, 7, 5]\n",
      "[5, 7, 4, 3, 8, 9, 1, 6, 2]\n",
      "[2, 1, 6, 5, 7, 4, 9, 8, 3]\n",
      "para este sudoku el backtraking intento 47297 posibles soluciones\n"
     ]
    }
   ],
   "source": [
    "contador=0\n",
    "def is_valid(grid, row, col, num):\n",
    "    for x in range(9): # coordenada de la columna\n",
    "        if grid[row][x] == num or grid[x][col] == num: # verificacion doble para buscar si num existe en horixontal o vertical\n",
    "            return False\n",
    "    start_row = row - row % 3 \n",
    "    start_col = col - col % 3 # reseteo las coordenadas del cuadrante\n",
    "    for i in range(3):\n",
    "        for j in range(3): # en este bucle anidado verifico si num existe en la matriz 3x3\n",
    "            if grid[i + start_row][j + start_col] == num:\n",
    "                return False\n",
    "    return True\n",
    "\n",
    "def solve_sudoku(grid, n=9):\n",
    "    global contador\n",
    "    #print(list(range(n)))\n",
    "    for row in range(n): # contador que recorre uno a uno los elementos de la fila\n",
    "        for col in range(n): # contador  que recorre uno a uno los elementos de la columna\n",
    "            if grid[row][col] == 0: # si el espacio esta vacio, intente llenarlo\n",
    "                for num in range(1, 10): #lista de todos los posibles valores para llenar el espacio\n",
    "                    if is_valid(grid, row, col, num): # row,col coordenadas # retorna si se puede usar el numero\n",
    "                        grid[row][col] = num\n",
    "                        contador+=1\n",
    "                        if solve_sudoku(grid, n): # en al llamada recursiva se evalua el siguiente 0 en la fila\n",
    "                            return True\n",
    "                        grid[row][col] = 0 # si no funciona borra TODO\n",
    "                return False\n",
    "    return True\n",
    "\n",
    "grid = [\n",
    "    [0, 2, 0, 0, 0, 0, 5, 1, 0],\n",
    "    [1, 0, 0, 7, 0, 0, 0, 0, 0],\n",
    "    [0, 0, 5, 0, 0, 3, 0, 0, 7],\n",
    "    [0, 3, 0, 0, 0, 7, 6, 0, 0],\n",
    "    [7, 0, 0, 0, 0, 0, 0, 0, 9],\n",
    "    [0, 0, 9, 1, 0, 0, 0, 4, 0],\n",
    "    [8, 0, 0, 2, 0, 0, 4, 0, 0],\n",
    "    [0, 0, 0, 0, 0, 9, 0, 0, 2],\n",
    "    [0, 1, 6, 0, 0, 0, 0, 8, 0],\n",
    "]\n",
    "\n",
    "if solve_sudoku(grid):\n",
    "    for row in grid:\n",
    "        print(row)\n",
    "else:\n",
    "    print(\"No solution found\")\n",
    "\n",
    "print(f\"para este sudoku el backtraking intento {contador} posibles soluciones\")"
   ]
  },
  {
   "cell_type": "markdown",
   "id": "7d61bea4",
   "metadata": {},
   "source": [
    "En este ejemplo, la función is_valid verifica si un número dado se puede colocar en una celda específica del tablero de Sudoku sin violar las reglas del juego. La función solve_sudoku intenta colocar números en celdas vacías recursivamente, utilizando backtracking para volver atrás y probar diferentes opciones cuando no se encuentra una solución válida.\n",
    "\n",
    "Si bien este es un ejemplo específico de Sudoku, el algoritmo de backtracking se puede aplicar a una amplia variedad de problemas de búsqueda y optimización."
   ]
  },
  {
   "cell_type": "code",
   "execution_count": 11,
   "id": "4ac6dcdb",
   "metadata": {},
   "outputs": [
    {
     "name": "stdout",
     "output_type": "stream",
     "text": [
      "1\n"
     ]
    }
   ],
   "source": [
    "print( 1 % 3)"
   ]
  }
 ],
 "metadata": {
  "kernelspec": {
   "display_name": "Python 3 (ipykernel)",
   "language": "python",
   "name": "python3"
  },
  "language_info": {
   "codemirror_mode": {
    "name": "ipython",
    "version": 3
   },
   "file_extension": ".py",
   "mimetype": "text/x-python",
   "name": "python",
   "nbconvert_exporter": "python",
   "pygments_lexer": "ipython3",
   "version": "3.9.13"
  }
 },
 "nbformat": 4,
 "nbformat_minor": 5
}
