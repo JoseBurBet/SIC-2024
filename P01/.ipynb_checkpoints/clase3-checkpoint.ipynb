{
 "cells": [
  {
   "cell_type": "markdown",
   "id": "285572ea",
   "metadata": {},
   "source": [
    "# Bases de la programación"
   ]
  },
  {
   "cell_type": "markdown",
   "id": "5ad0867d",
   "metadata": {},
   "source": [
    "snake_case : mi_variable\n",
    "PascalCase : MiVariable\n",
    "camelCase  : miVariable \n",
    "\n",
    "En programacion siempre se empieza a contar desde cero!!!!"
   ]
  },
  {
   "cell_type": "code",
   "execution_count": null,
   "id": "62f1edd3",
   "metadata": {},
   "outputs": [],
   "source": [
    "Backend: Hace el código que esta detras de todo, usualmente se ejecuta en consola \n",
    "Frontend:Hace la UI (user Interface) , botones, colores, cosas bonitas\n",
    "    \n",
    "FullStack: Ambas cosas   "
   ]
  },
  {
   "cell_type": "code",
   "execution_count": 6,
   "id": "da51d3ce",
   "metadata": {},
   "outputs": [
    {
     "data": {
      "text/plain": [
       "'\\n\\ndfghjklññlkiujytrfedswaq\\n\\n'"
      ]
     },
     "execution_count": 6,
     "metadata": {},
     "output_type": "execute_result"
    }
   ],
   "source": [
    "#en python los comentarios (texto que el compilador ignora)\n",
    "#se escriben anteponiendo un # en un renglon\n",
    "#si quiero comentar varias lineas de codigo, escribo \n",
    "'''\n",
    "dfghjklññlkiujytrfedswaq\n",
    "'''"
   ]
  },
  {
   "cell_type": "markdown",
   "id": "c67446ff",
   "metadata": {},
   "source": [
    "### variables"
   ]
  },
  {
   "cell_type": "markdown",
   "id": "329d1a75",
   "metadata": {},
   "source": [
    "una variable es un espacio de memoria donde yo guardo un dato, crearlo, modificarlo, eliminarlo"
   ]
  },
  {
   "cell_type": "code",
   "execution_count": 3,
   "id": "9d3f447e",
   "metadata": {},
   "outputs": [],
   "source": [
    "numero = 4"
   ]
  },
  {
   "cell_type": "markdown",
   "id": "f532d184",
   "metadata": {},
   "source": [
    "### Tipos de datos"
   ]
  },
  {
   "cell_type": "markdown",
   "id": "cc53d043",
   "metadata": {},
   "source": [
    "int   -> numero entero 3,5,8,2\n",
    "float -> numero decimal 3.14 , 5.22"
   ]
  },
  {
   "cell_type": "code",
   "execution_count": 4,
   "id": "bb379947",
   "metadata": {},
   "outputs": [
    {
     "name": "stdout",
     "output_type": "stream",
     "text": [
      "7.140000000000001\n"
     ]
    }
   ],
   "source": [
    "numero1 = 4\n",
    "numero2 = 3.14\n",
    "print(numero1+numero2)\n",
    "\n",
    "#python siempre convierte al tipod e datos mas completo"
   ]
  },
  {
   "cell_type": "markdown",
   "id": "2a8b8b1d",
   "metadata": {},
   "source": [
    "str -> string -> una cadena de texto : casa , d , =, % ,& , 4,6,7\n",
    "TODO lo que yo escriba entre comillas es una cadena de texto  \" hola mundo 7 \""
   ]
  },
  {
   "cell_type": "markdown",
   "id": "62fa6ec1",
   "metadata": {},
   "source": [
    "bool -> booleanos son valores logicos \n",
    "verdadero -> True  -> 1 -> encendido -> si\n",
    "falso     -> False -> 0 -> apagado   -> no"
   ]
  },
  {
   "cell_type": "code",
   "execution_count": null,
   "id": "d0a40a2c",
   "metadata": {},
   "outputs": [],
   "source": [
    "list -> lista ->  mercado = [\"arroz\", \"aceite\",\"sal\"]\n",
    "mercado = [\"arroz\", \"aceite\",\"sal\"]\n",
    "              0         1       2\n",
    "index : indice, indicador, direccion donde está\n",
    "value : valor, el dato\n",
    "\n",
    "¿Si queiro hallar el aceite, donde lo busco?\n",
    "index = 1\n",
    "value = aceite\n",
    "mercado[1] = aceite\n",
    "\n",
    "estudiante1=[\"Ruben\",\"Herrera\",20,\"panama\",\"34567845\"]"
   ]
  },
  {
   "cell_type": "code",
   "execution_count": 8,
   "id": "8e554710",
   "metadata": {},
   "outputs": [
    {
     "name": "stdout",
     "output_type": "stream",
     "text": [
      "123456789\n"
     ]
    }
   ],
   "source": [
    "#Diccionarios \n",
    "\n",
    "#index -> key \n",
    "#value\n",
    "\n",
    "diccionario1={\"key\":\"value\"}\n",
    "\n",
    "estudiante1={\"nombre\":\"ruben\",\n",
    "             \"apellido\":\"herrera\",\n",
    "             \"edad\":20,\n",
    "             \"ciudad\" : \"panama\",\n",
    "             \"documento\" : \"123456789\",\n",
    "            }\n",
    "\n",
    "#¿cual es el documento del estudiante 1?\n",
    "print(estudiante1[\"documento\"])"
   ]
  },
  {
   "cell_type": "markdown",
   "id": "7e94195b",
   "metadata": {},
   "source": [
    "### Operadores Algebraicos"
   ]
  },
  {
   "cell_type": "code",
   "execution_count": null,
   "id": "705a483b",
   "metadata": {},
   "outputs": [],
   "source": [
    "para operar \"numeros\"\n",
    "\n",
    "suma +\n",
    "resta -\n",
    "multiplicacion *\n",
    "division /\n",
    "\n",
    "modulo %  (lo que sobra de la division)\n",
    "division exacta // \n",
    "potencia  **\n",
    "raiz cuadrada  n**(1/2)    "
   ]
  },
  {
   "cell_type": "markdown",
   "id": "7020c6a1",
   "metadata": {},
   "source": [
    "### Comparadores algebraicos"
   ]
  },
  {
   "cell_type": "markdown",
   "id": "e23e216d",
   "metadata": {},
   "source": [
    "mayor          >\n",
    "menor          <\n",
    "mayor o igual  >=\n",
    "menor o igual  <=\n",
    "igual          ==\n",
    "diferente      !="
   ]
  },
  {
   "cell_type": "markdown",
   "id": "fe9bdbf7",
   "metadata": {},
   "source": [
    "### Operadores lógicos"
   ]
  },
  {
   "cell_type": "code",
   "execution_count": null,
   "id": "d201d801",
   "metadata": {},
   "outputs": [],
   "source": [
    "NOT -> no -> not \n",
    "AND -> y  -> and -> &&\n",
    "OR  -> ó  -> or  -> ||\n",
    "\n",
    "para tener el certificado tengo que asistir a clase y tener buenas notas\n",
    "\n",
    "tengo el certificado?\n",
    "True\n",
    "False\n",
    "\n",
    "asistir and buenas_notas = True \n",
    "\n",
    "si necesito que obligatoriamente las 2 condiciones se cumplan\n",
    "utilizo and\n",
    "\n",
    "si necesito que cualquiera de las opciones se cumpla utilizo or\n",
    "\n",
    "False = not True\n",
    "True  = not False\n"
   ]
  },
  {
   "cell_type": "markdown",
   "id": "8399994f",
   "metadata": {},
   "source": [
    "### Toma de desiciones "
   ]
  },
  {
   "cell_type": "markdown",
   "id": "3cc03039",
   "metadata": {},
   "source": [
    " pasos para resolver un problema:\n",
    "    \n",
    "1. identificar que me estan pidiendo -> salida\n",
    "2. que necesito para lograrlo  -> proceso\n",
    "3. que necesito para realizar ese proceso -> entradas\n",
    "\n",
    "\n",
    "problema: no me escuchan\n",
    "    \n",
    "1. audio\n",
    "2. transferencia de la voz\n",
    "3. microfono \n",
    "\n",
    "mi micro esta encendido? \n",
    "\n",
    "respuesta == si\n",
    "    decision : evaluo otras opciones\n",
    "    \n",
    "respuesta == no\n",
    "    decision : encienda el micro \n",
    "    \n",
    "toma de desiciones:\n",
    "1. planteo pregunta de si o no\n",
    "2. evaluo la respuesta\n",
    "3. actuo segun la respuesta"
   ]
  },
  {
   "cell_type": "markdown",
   "id": "ff6dd903",
   "metadata": {},
   "source": [
    " IDENTADO -> IDENTACION -> TABULACION -> ESPACIO QUE DEJO A LA IZQUIERDA!!\n",
    "\n",
    "EN PYTHON siempre que haya un espacio a la izquierda, despues de un :\n",
    "    indica que el codigo esta dentro de la instruccion anterior\n"
   ]
  },
  {
   "cell_type": "code",
   "execution_count": null,
   "id": "b5110bbd",
   "metadata": {},
   "outputs": [],
   "source": [
    "# sintaxis sentancia if\n",
    "\n",
    "if condicion == valor :\n",
    "    decision\n",
    "else \n",
    "    decision\n",
    "    \n",
    "else es la opcion de descarte, \n",
    "todo lo que no sea la condicion se asume que entra en el else\n",
    "\n",
    "\n",
    "if caja==\"arriba\":\n",
    "    decision\n",
    "elif caja==\"abajo\":\n",
    "    decision\n",
    "elif caja==\"centro\":\n",
    "    desicion\n",
    "else:\n",
    "    print(\"hay un error\")\n",
    "    "
   ]
  },
  {
   "cell_type": "markdown",
   "id": "7783c83f",
   "metadata": {},
   "source": [
    "# control de errores "
   ]
  },
  {
   "cell_type": "code",
   "execution_count": 17,
   "id": "51662cfe",
   "metadata": {},
   "outputs": [
    {
     "ename": "NameError",
     "evalue": "name 'casa' is not defined",
     "output_type": "error",
     "traceback": [
      "\u001b[1;31m---------------------------------------------------------------------------\u001b[0m",
      "\u001b[1;31mNameError\u001b[0m                                 Traceback (most recent call last)",
      "\u001b[1;32m~\\AppData\\Local\\Temp\\ipykernel_5420\\3812860344.py\u001b[0m in \u001b[0;36m<module>\u001b[1;34m\u001b[0m\n\u001b[1;32m----> 1\u001b[1;33m \u001b[0mprint\u001b[0m\u001b[1;33m(\u001b[0m\u001b[1;36m3\u001b[0m\u001b[1;33m+\u001b[0m\u001b[0mcasa\u001b[0m\u001b[1;33m)\u001b[0m\u001b[1;33m\u001b[0m\u001b[1;33m\u001b[0m\u001b[0m\n\u001b[0m\u001b[0;32m      2\u001b[0m \u001b[0mprint\u001b[0m\u001b[1;33m(\u001b[0m\u001b[1;34m\"hola\"\u001b[0m\u001b[1;33m)\u001b[0m\u001b[1;33m\u001b[0m\u001b[1;33m\u001b[0m\u001b[0m\n",
      "\u001b[1;31mNameError\u001b[0m: name 'casa' is not defined"
     ]
    }
   ],
   "source": [
    "print(3+casa)\n",
    "print(\"hola\")"
   ]
  },
  {
   "cell_type": "code",
   "execution_count": 27,
   "id": "d1205b58",
   "metadata": {},
   "outputs": [
    {
     "name": "stdout",
     "output_type": "stream",
     "text": [
      "Existe un error: name 'casa' is not defined\n"
     ]
    }
   ],
   "source": [
    "try: #intente este codigo, si no funciona haga lo que dice except\n",
    "    print(3+casa)\n",
    "    print(\"hola\")\n",
    "    \n",
    "except Exception as e:\n",
    "    print(f\"Existe un error: {e}\")  \n",
    "    "
   ]
  },
  {
   "cell_type": "markdown",
   "id": "e27969f3",
   "metadata": {},
   "source": [
    "# ENTRADA Y SALIDA DE DATOS"
   ]
  },
  {
   "cell_type": "markdown",
   "id": "0d4e703c",
   "metadata": {},
   "source": [
    "ENTRADA -> LE PIDO AL USUARIO\n",
    "SALIDA  -> MUESTRO EN PANTALLA"
   ]
  },
  {
   "cell_type": "code",
   "execution_count": 26,
   "id": "d8492a6b",
   "metadata": {},
   "outputs": [
    {
     "name": "stdout",
     "output_type": "stream",
     "text": [
      "\t ingrese su nombre : \n",
      " jose\n",
      "?t ingrese su edad : \n",
      "29\n"
     ]
    }
   ],
   "source": [
    "#ENTRADA\n",
    "\n",
    "nombre = input(\"\\t ingrese su nombre : \\n \") \n",
    "#python SIEMPRE!!! INPUT recibe STRING\n",
    "\n",
    "edad = int(input(\"\\t ingrese su edad : \\n\"))\n",
    "\n",
    "#conversion de datos\n",
    "int()\n",
    "str()\n",
    "bool()\n",
    "float()\n",
    "\n",
    "\n"
   ]
  },
  {
   "cell_type": "markdown",
   "id": "c1b9e7f2",
   "metadata": {},
   "source": [
    "# BUCLES"
   ]
  },
  {
   "cell_type": "code",
   "execution_count": null,
   "id": "5f3159e4",
   "metadata": {},
   "outputs": [],
   "source": []
  },
  {
   "cell_type": "markdown",
   "id": "93666676",
   "metadata": {},
   "source": [
    "# FUNCIONES"
   ]
  },
  {
   "cell_type": "code",
   "execution_count": null,
   "id": "f3061476",
   "metadata": {},
   "outputs": [],
   "source": []
  }
 ],
 "metadata": {
  "kernelspec": {
   "display_name": "Python 3 (ipykernel)",
   "language": "python",
   "name": "python3"
  },
  "language_info": {
   "codemirror_mode": {
    "name": "ipython",
    "version": 3
   },
   "file_extension": ".py",
   "mimetype": "text/x-python",
   "name": "python",
   "nbconvert_exporter": "python",
   "pygments_lexer": "ipython3",
   "version": "3.9.13"
  }
 },
 "nbformat": 4,
 "nbformat_minor": 5
}
