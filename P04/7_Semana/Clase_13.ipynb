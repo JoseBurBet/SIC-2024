{
 "cells": [
  {
   "cell_type": "code",
   "execution_count": 2,
   "id": "cca8c09d",
   "metadata": {},
   "outputs": [
    {
     "name": "stdout",
     "output_type": "stream",
     "text": [
      "Requirement already satisfied: pandas in c:\\users\\joseb\\anaconda3\\lib\\site-packages (1.4.4)\n",
      "Requirement already satisfied: python-dateutil>=2.8.1 in c:\\users\\joseb\\anaconda3\\lib\\site-packages (from pandas) (2.8.2)\n",
      "Requirement already satisfied: pytz>=2020.1 in c:\\users\\joseb\\anaconda3\\lib\\site-packages (from pandas) (2022.1)\n",
      "Requirement already satisfied: numpy>=1.18.5 in c:\\users\\joseb\\anaconda3\\lib\\site-packages (from pandas) (1.21.5)\n",
      "Requirement already satisfied: six>=1.5 in c:\\users\\joseb\\anaconda3\\lib\\site-packages (from python-dateutil>=2.8.1->pandas) (1.16.0)\n"
     ]
    }
   ],
   "source": [
    "#instalacion de librerias en jupyter \n",
    "\n",
    "import sys\n",
    "!{sys.executable} -m pip install pandas\n"
   ]
  },
  {
   "cell_type": "code",
   "execution_count": 3,
   "id": "53f4e6d7",
   "metadata": {},
   "outputs": [
    {
     "data": {
      "text/plain": [
       "'1.4.4'"
      ]
     },
     "execution_count": 3,
     "metadata": {},
     "output_type": "execute_result"
    }
   ],
   "source": [
    "import pandas as pd\n",
    "pd.__version__"
   ]
  },
  {
   "cell_type": "markdown",
   "id": "9cccc106",
   "metadata": {},
   "source": [
    "# Pandas"
   ]
  },
  {
   "cell_type": "code",
   "execution_count": null,
   "id": "13a78dba",
   "metadata": {},
   "outputs": [],
   "source": [
    "#lista\n",
    "pandas.Series  -> cuando tengo solo 1 columna  en la que queiro ahcer algo\n",
    "-> index numericos y tambien por nombre\n",
    "-> value\n",
    "# es una especie de mezcla de listas + la key de los diccionarios\n",
    "\n",
    "\n",
    "#matriz \n",
    "pandas.DataFrame -> cuando tengo varias columnas -> Excel\n",
    "-> index numericos y tambien por nombre  -> [][] \n",
    "-> value[][]"
   ]
  },
  {
   "cell_type": "code",
   "execution_count": 10,
   "id": "2807d7ce",
   "metadata": {
    "scrolled": true
   },
   "outputs": [
    {
     "name": "stdout",
     "output_type": "stream",
     "text": [
      "['jose', 'profe', 'colombia', '30']\n",
      "0        jose\n",
      "1       profe\n",
      "2    colombia\n",
      "3          30\n",
      "dtype: object\n",
      "<class 'pandas.core.series.Series'>\n",
      "____________________\n",
      "nombre        jose\n",
      "rol          profe\n",
      "pais      colombia\n",
      "edad            30\n",
      "dtype: object\n",
      "____________________\n",
      "jose\n",
      "jose\n"
     ]
    }
   ],
   "source": [
    "import pandas as pd\n",
    "\n",
    "lista=[\"jose\",\"profe\",\"colombia\",\"30\"]\n",
    "print(lista)\n",
    "\n",
    "#convertir a serie\n",
    "s=pd.Series(lista)\n",
    "print(s)\n",
    "print(type(s))\n",
    "\n",
    "print(\"____________________\")\n",
    "ind=[\"nombre\",\"rol\",\"pais\",\"edad\"]\n",
    "data=pd.Series(lista,index=[ind])\n",
    "print(data)\n",
    "print(\"____________________\")\n",
    "print(data[0])\n",
    "print(data[\"nombre\"])"
   ]
  },
  {
   "cell_type": "code",
   "execution_count": 25,
   "id": "28f914a9",
   "metadata": {},
   "outputs": [
    {
     "name": "stdout",
     "output_type": "stream",
     "text": [
      "nombre        jose\n",
      "rol          profe\n",
      "pais      colombia\n",
      "edad            30\n",
      "dtype: object\n",
      "Index(['nombre', 'rol', 'pais', 'edad'], dtype='object')\n",
      "['jose' 'profe' 'colombia' 30]\n",
      "_______________\n",
      "nombre        jose\n",
      "pais      colombia\n",
      "dtype: object\n",
      "pais      colombia\n",
      "nombre        jose\n",
      "dtype: object\n",
      "_______________\n",
      "nombre     jose\n",
      "rol       profe\n",
      "dtype: object\n"
     ]
    },
    {
     "name": "stderr",
     "output_type": "stream",
     "text": [
      "C:\\Users\\joseb\\AppData\\Local\\Temp\\ipykernel_2924\\3957724573.py:9: FutureWarning: Passing a set as an indexer is deprecated and will raise in a future version. Use a list instead.\n",
      "  print(s_dic[{0,2}])\n",
      "C:\\Users\\joseb\\AppData\\Local\\Temp\\ipykernel_2924\\3957724573.py:10: FutureWarning: Passing a set as an indexer is deprecated and will raise in a future version. Use a list instead.\n",
      "  print(s_dic[{\"nombre\",\"pais\"}])\n"
     ]
    }
   ],
   "source": [
    "dic={\"nombre\":\"jose\",\"rol\":\"profe\",\"pais\":\"colombia\",\"edad\":30}\n",
    "s_dic=pd.Series(dic)\n",
    "print(s_dic)\n",
    "print(s_dic.index)\n",
    "print(s_dic.values)\n",
    "print(\"_______________\")\n",
    "\n",
    "# acceder a mas de un index a la vez\n",
    "print(s_dic[{0,2}])\n",
    "print(s_dic[{\"nombre\",\"pais\"}])\n",
    "print(\"_______________\")\n",
    "#slicing\n",
    "print(s_dic[0:2])\n"
   ]
  },
  {
   "cell_type": "code",
   "execution_count": 31,
   "id": "bc708bc2",
   "metadata": {},
   "outputs": [
    {
     "name": "stdout",
     "output_type": "stream",
     "text": [
      "DatetimeIndex(['2024-03-05', '2024-03-06', '2024-03-07', '2024-03-08',\n",
      "               '2024-03-09', '2024-03-10', '2024-03-11', '2024-03-12',\n",
      "               '2024-03-13', '2024-03-14', '2024-03-15', '2024-03-16',\n",
      "               '2024-03-17', '2024-03-18', '2024-03-19', '2024-03-20',\n",
      "               '2024-03-21', '2024-03-22', '2024-03-23', '2024-03-24',\n",
      "               '2024-03-25', '2024-03-26', '2024-03-27'],\n",
      "              dtype='datetime64[ns]', freq='D')\n",
      "<class 'pandas.core.indexes.datetimes.DatetimeIndex'>\n"
     ]
    }
   ],
   "source": [
    "import pandas as pd\n",
    "#date_range(\"fecha_inicial,Fecha_final,Fecha_paso\")\n",
    "dates=pd.date_range(\"2024-03-05\",\"2024-03-27\",freq='D')\n",
    "#help(pd.date_range)\n",
    "print(dates)\n",
    "print(type(dates))"
   ]
  },
  {
   "cell_type": "code",
   "execution_count": 34,
   "id": "0bf085c6",
   "metadata": {},
   "outputs": [
    {
     "name": "stdout",
     "output_type": "stream",
     "text": [
      "0    1\n",
      "1    2\n",
      "2    3\n",
      "3    4\n",
      "4    5\n",
      "dtype: int64\n",
      "______\n",
      "0     6\n",
      "1     7\n",
      "2     8\n",
      "3     9\n",
      "4    10\n",
      "dtype: int64\n",
      "______\n",
      "0     6\n",
      "1    14\n",
      "2    24\n",
      "3    36\n",
      "4    50\n",
      "dtype: int64\n"
     ]
    }
   ],
   "source": [
    "import pandas as pd\n",
    "s1=[1,2,3,4,5]\n",
    "s2=[6,7,8,9,10]\n",
    "\n",
    "serie1=pd.Series(s1)\n",
    "serie2=pd.Series(s2)\n",
    "print(serie1)\n",
    "print(\"______\")\n",
    "print(serie2)\n",
    "\n",
    "# cuando opero dos series matematicamente se hacen uno a uno segun su index\n",
    "\n",
    "serie_t=serie1*serie2\n",
    "print(\"______\")\n",
    "print(serie_t)"
   ]
  },
  {
   "cell_type": "code",
   "execution_count": 41,
   "id": "85fe9b0d",
   "metadata": {},
   "outputs": [
    {
     "name": "stdout",
     "output_type": "stream",
     "text": [
      "0      1\n",
      "1      2\n",
      "2      3\n",
      "3      4\n",
      "4      5\n",
      "5      6\n",
      "6      7\n",
      "7      8\n",
      "8      9\n",
      "9     10\n",
      "10    11\n",
      "11    12\n",
      "12    13\n",
      "13    14\n",
      "14    15\n",
      "15    16\n",
      "dtype: int64\n",
      "count() -> cantidad de elementos no nulos de la serie: 16\n",
      "suma: 136\n",
      "media: 8.5\n",
      "Desviacion estandar: 4.760952285695233\n",
      "minimo: 1\n",
      "maximo: 16\n",
      "producto: 20922789888000\n",
      "_______________\n",
      "suma acumulativa 0       1\n",
      "1       3\n",
      "2       6\n",
      "3      10\n",
      "4      15\n",
      "5      21\n",
      "6      28\n",
      "7      36\n",
      "8      45\n",
      "9      55\n",
      "10     66\n",
      "11     78\n",
      "12     91\n",
      "13    105\n",
      "14    120\n",
      "15    136\n",
      "dtype: int64\n",
      "producto acumulativa 0                  1\n",
      "1                  2\n",
      "2                  6\n",
      "3                 24\n",
      "4                120\n",
      "5                720\n",
      "6               5040\n",
      "7              40320\n",
      "8             362880\n",
      "9            3628800\n",
      "10          39916800\n",
      "11         479001600\n",
      "12        6227020800\n",
      "13       87178291200\n",
      "14     1307674368000\n",
      "15    20922789888000\n",
      "dtype: int64\n"
     ]
    }
   ],
   "source": [
    "import pandas as pd \n",
    "s=pd.Series([1,2,3,4,5,6,7,8,9,10,11,12,13,14,15,16])\n",
    "print(s)\n",
    "print(\"count() -> cantidad de elementos no nulos de la serie:\",s.count())\n",
    "print(\"suma:\",s.sum())\n",
    "print(\"media:\",s.mean())\n",
    "print(\"Desviacion estandar:\",s.std())\n",
    "print(\"minimo:\",s.min())\n",
    "print(\"maximo:\",s.max())\n",
    "print(\"producto:\",s.prod())\n",
    "print(\"_______________\")\n",
    "print(\"suma acumulativa\",s.cumsum())#suma y actualiza\n",
    "print(\"producto acumulativa\",s.cumprod())#multiplica y actualiza"
   ]
  },
  {
   "cell_type": "code",
   "execution_count": 42,
   "id": "cad7a6a1",
   "metadata": {
    "scrolled": true
   },
   "outputs": [
    {
     "name": "stdout",
     "output_type": "stream",
     "text": [
      "Requirement already satisfied: matplotlib in c:\\users\\joseb\\anaconda3\\lib\\site-packages (3.5.2)\n",
      "Requirement already satisfied: python-dateutil>=2.7 in c:\\users\\joseb\\anaconda3\\lib\\site-packages (from matplotlib) (2.8.2)\n",
      "Requirement already satisfied: numpy>=1.17 in c:\\users\\joseb\\anaconda3\\lib\\site-packages (from matplotlib) (1.21.5)\n",
      "Requirement already satisfied: pyparsing>=2.2.1 in c:\\users\\joseb\\anaconda3\\lib\\site-packages (from matplotlib) (3.0.9)\n",
      "Requirement already satisfied: packaging>=20.0 in c:\\users\\joseb\\anaconda3\\lib\\site-packages (from matplotlib) (21.3)\n",
      "Requirement already satisfied: fonttools>=4.22.0 in c:\\users\\joseb\\anaconda3\\lib\\site-packages (from matplotlib) (4.25.0)\n",
      "Requirement already satisfied: kiwisolver>=1.0.1 in c:\\users\\joseb\\anaconda3\\lib\\site-packages (from matplotlib) (1.4.2)\n",
      "Requirement already satisfied: pillow>=6.2.0 in c:\\users\\joseb\\anaconda3\\lib\\site-packages (from matplotlib) (9.2.0)\n",
      "Requirement already satisfied: cycler>=0.10 in c:\\users\\joseb\\anaconda3\\lib\\site-packages (from matplotlib) (0.11.0)\n",
      "Requirement already satisfied: six>=1.5 in c:\\users\\joseb\\anaconda3\\lib\\site-packages (from python-dateutil>=2.7->matplotlib) (1.16.0)\n"
     ]
    }
   ],
   "source": [
    "#instalacion de librerias en jupyter \n",
    "\n",
    "import sys\n",
    "!{sys.executable} -m pip install matplotlib"
   ]
  },
  {
   "cell_type": "code",
   "execution_count": 44,
   "id": "bf9714e0",
   "metadata": {},
   "outputs": [
    {
     "data": {
      "text/plain": [
       "'3.5.2'"
      ]
     },
     "execution_count": 44,
     "metadata": {},
     "output_type": "execute_result"
    }
   ],
   "source": [
    "import matplotlib \n",
    "matplotlib.__version__"
   ]
  },
  {
   "cell_type": "code",
   "execution_count": 46,
   "id": "aa891e5f",
   "metadata": {
    "scrolled": false
   },
   "outputs": [
    {
     "data": {
      "image/png": "[encoded data removed]",
      "text/plain": [
       "<Figure size 640x480 with 1 Axes>"
      ]
     },
     "metadata": {},
     "output_type": "display_data"
    }
   ],
   "source": [
    "import matplotlib.pyplot as plt\n",
    "\n",
    "plt.plot([1,4,7,3,2,8])\n",
    "plt.show()"
   ]
  },
  {
   "cell_type": "code",
   "execution_count": 47,
   "id": "6c21a6b7",
   "metadata": {},
   "outputs": [
    {
     "data": {
      "image/png": "[encoded data removed]",
      "text/plain": [
       "<Figure size 640x480 with 1 Axes>"
      ]
     },
     "metadata": {},
     "output_type": "display_data"
    }
   ],
   "source": [
    "import matplotlib.pyplot as plt \n",
    "import pandas as pd\n",
    "#serie(y,x)\n",
    "s=pd.Series([1,2,3,4,5],[\"n_profes\",\"n_tutores\",\"n_estudiantes\",\"n_pc's\",\"n_dias\"])# value,index\n",
    "plt.plot(s)\n",
    "plt.show()"
   ]
  },
  {
   "cell_type": "code",
   "execution_count": 50,
   "id": "25e77412",
   "metadata": {
    "scrolled": true
   },
   "outputs": [
    {
     "data": {
      "image/png": "[encoded data removed]",
      "text/plain": [
       "<Figure size 640x480 with 1 Axes>"
      ]
     },
     "metadata": {},
     "output_type": "display_data"
    }
   ],
   "source": [
    "import matplotlib.pyplot as plt \n",
    "\n",
    "# puntos(x,y)\n",
    "x=range(-101,101) #range(1,101,1)\n",
    "\n",
    "#y=x^2\n",
    "'''\n",
    "for contador in range x:\n",
    "    y[1]=contador**2\n",
    "'''\n",
    "\n",
    "y=[contador**2 for contador in x]\n",
    "plt.plot(x,y,linewidth=4,color=\"red\")\n",
    "plt.title(\"grafica de y=x^2 \")\n",
    "plt.xlabel(\"x\")\n",
    "plt.ylabel(\"y=x^2 \")\n",
    "plt.show()"
   ]
  },
  {
   "cell_type": "markdown",
   "id": "5952e371",
   "metadata": {},
   "source": [
    "https://blog.facialix.com/tutorial-creacion-de-graficas-en-python-usando-matplotlib/"
   ]
  }
 ],
 "metadata": {
  "kernelspec": {
   "display_name": "Python 3 (ipykernel)",
   "language": "python",
   "name": "python3"
  },
  "language_info": {
   "codemirror_mode": {
    "name": "ipython",
    "version": 3
   },
   "file_extension": ".py",
   "mimetype": "text/x-python",
   "name": "python",
   "nbconvert_exporter": "python",
   "pygments_lexer": "ipython3",
   "version": "3.9.13"
  }
 },
 "nbformat": 4,
 "nbformat_minor": 5
}
