{
 "cells": [
  {
   "cell_type": "code",
   "execution_count": 1,
   "id": "a3d40216",
   "metadata": {},
   "outputs": [
    {
     "name": "stdout",
     "output_type": "stream",
     "text": [
      "fetuccini pesto\n",
      "fetuccini alfredo\n",
      "fetuccini blanca\n",
      "fetuccini quesos\n",
      "fetuccini bolognesa\n",
      "spaguetti pesto\n",
      "spaguetti alfredo\n",
      "spaguetti blanca\n",
      "spaguetti quesos\n",
      "spaguetti bolognesa\n",
      "calzone pesto\n",
      "calzone alfredo\n",
      "calzone blanca\n",
      "calzone quesos\n",
      "calzone bolognesa\n"
     ]
    }
   ],
   "source": [
    "pasta =[\"fetuccini\",\"spaguetti\",\"calzone\"]\n",
    "salsas=[\"pesto\",\"alfredo\",\"blanca\",\"quesos\",\"bolognesa\"]\n",
    "\n",
    "for p in pasta:\n",
    "    for s in salsas:\n",
    "        print(p,s)\n",
    "        \n",
    "      \n",
    "        \n",
    "        "
   ]
  },
  {
   "cell_type": "code",
   "execution_count": 2,
   "id": "5dec80ef",
   "metadata": {},
   "outputs": [
    {
     "name": "stdout",
     "output_type": "stream",
     "text": [
      "[2, 3, 3, 4, 4, 6, 6, 7, 9, 9]\n"
     ]
    }
   ],
   "source": [
    "lista = [4,7,3,6,9,3,2,6,9,4]\n",
    "lista.sort()\n",
    "print(lista)"
   ]
  },
  {
   "cell_type": "code",
   "execution_count": 11,
   "id": "d098509b",
   "metadata": {},
   "outputs": [
    {
     "name": "stdout",
     "output_type": "stream",
     "text": [
      "original\n",
      " [4, 7, 3, 6, 9, 3, 2, 6, 9, 4, 3, 7, 8, 3, 6]\n",
      "[4, 3, 6, 7, 3, 2, 6, 9, 4, 3, 7, 8, 3, 6, 9]\n",
      "[3, 4, 6, 3, 2, 6, 7, 4, 3, 7, 8, 3, 6, 9, 9]\n",
      "[3, 4, 3, 2, 6, 6, 4, 3, 7, 7, 3, 6, 8, 9, 9]\n",
      "[3, 3, 2, 4, 6, 4, 3, 6, 7, 3, 6, 7, 8, 9, 9]\n",
      "[3, 2, 3, 4, 4, 3, 6, 6, 3, 6, 7, 7, 8, 9, 9]\n",
      "[2, 3, 3, 4, 3, 4, 6, 3, 6, 6, 7, 7, 8, 9, 9]\n",
      "[2, 3, 3, 3, 4, 4, 3, 6, 6, 6, 7, 7, 8, 9, 9]\n",
      "[2, 3, 3, 3, 4, 3, 4, 6, 6, 6, 7, 7, 8, 9, 9]\n",
      "[2, 3, 3, 3, 3, 4, 4, 6, 6, 6, 7, 7, 8, 9, 9]\n",
      "[2, 3, 3, 3, 3, 4, 4, 6, 6, 6, 7, 7, 8, 9, 9]\n",
      "[2, 3, 3, 3, 3, 4, 4, 6, 6, 6, 7, 7, 8, 9, 9]\n"
     ]
    }
   ],
   "source": [
    "### ordenamiento tipo burbuja\n",
    "\n",
    "lista = [4,7,3,6,9,3,2,6,9,4,3,7,8,3,6]\n",
    "#print(list(range(0,len(lista))))\n",
    "print(\"original\\n\",lista)\n",
    "for i in range(0,11):\n",
    "    for i in range(0,len(lista)-1,1):\n",
    "        if lista[i]>lista[i+1]:\n",
    "            lista[i],lista[i+1]=lista[i+1],lista[i]\n",
    "\n",
    "    print(lista)\n",
    "\n",
    "\n",
    "\n",
    "\n"
   ]
  },
  {
   "cell_type": "code",
   "execution_count": 12,
   "id": "bb7b24a1",
   "metadata": {},
   "outputs": [
    {
     "name": "stdout",
     "output_type": "stream",
     "text": [
      "[('aisleisy', 1234), ('alba', 3456), ('aldahir', 4567), ('alejandro', 234), ('ana', 567)]\n"
     ]
    }
   ],
   "source": [
    "nombres=[\"aisleisy\",\"alba\",\"aldahir\",\"alejandro\",\"ana\"]\n",
    "ident=[1234,3456,4567,234,567]\n",
    "\n",
    "pares_datos=list(zip(nombres,ident))\n",
    "print(pares_datos)"
   ]
  }
 ],
 "metadata": {
  "kernelspec": {
   "display_name": "Python 3 (ipykernel)",
   "language": "python",
   "name": "python3"
  },
  "language_info": {
   "codemirror_mode": {
    "name": "ipython",
    "version": 3
   },
   "file_extension": ".py",
   "mimetype": "text/x-python",
   "name": "python",
   "nbconvert_exporter": "python",
   "pygments_lexer": "ipython3",
   "version": "3.9.13"
  }
 },
 "nbformat": 4,
 "nbformat_minor": 5
}
