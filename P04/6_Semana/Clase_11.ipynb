{
 "cells": [
  {
   "cell_type": "markdown",
   "id": "6ef7ff10",
   "metadata": {},
   "source": [
    "# Enfoque greedy\n",
    "El enfoque greedy, también conocido como algoritmo de búsqueda en profundidad (DFS), es una estrategia de resolución de problemas que consiste en tomar la decisión óptima en cada paso local con la esperanza de que al final, la solución general sea óptima. Sin embargo, este enfoque no siempre garantiza una solución óptima, especialmente en problemas donde las soluciones locales óptimas no implican una solución óptima general.\n",
    "\n",
    "En resumen, el enfoque greedy es una estrategia de resolución de problemas que puede ser útil en muchos casos, pero no garantiza una solución óptima en todos los casos.\n",
    "\n",
    "Se utiliza para todos los ejercicios en los cuales yo descompongo la solucion en soluciones parciales"
   ]
  },
  {
   "cell_type": "markdown",
   "id": "2a1e7621",
   "metadata": {},
   "source": [
    "# Pasos a tener en cuenta\n",
    "\n",
    "1. Seleccion: \n",
    "    Se selecciona el mejor elemento que se añade al conjunto de soluciones. CONDICION\n",
    "2. Comprobación de la viabilidad:\n",
    "    En otras palabras, se examina si el mejor elemento seleccionado en la etapa actual es apropiado para ser la respuesta.\n",
    "3. Comprobación de la solución:\n",
    "     En otras palabras, se examina si la solucion parcial en la etapa actual es la respuesta al problema.\n",
    "\n",
    "\n",
    "\n",
    "Importante!!! : en la lista de elementos que componen la solucion (condiciones) el orden es MUY IMPROTANTE, a traves del orden defino una prioridad"
   ]
  },
  {
   "cell_type": "markdown",
   "id": "1fc83cdc",
   "metadata": {},
   "source": [
    "### Ejemplo de cambio de monedas"
   ]
  },
  {
   "cell_type": "code",
   "execution_count": 5,
   "id": "1ebe3a09",
   "metadata": {},
   "outputs": [
    {
     "name": "stdout",
     "output_type": "stream",
     "text": [
      "Ingrese el valor que desea cambiar: 870\n",
      "El cambio de 870 es : \n",
      "[100, 100, 100, 100, 100, 100, 100, 100, 50, 10, 10] con 11 monedas\n"
     ]
    }
   ],
   "source": [
    "#construir un cambiador de monedas donde devuelva la menor cantidad de monedas posible\n",
    "\n",
    "def coin_change(coins,amount):\n",
    "    changes=[] # en lista voy añadiendo las monedas que componen la solucion\n",
    "    largest=0 #contador para recorrer la lista de elementos coins\n",
    "    \n",
    "    while amount>0:\n",
    "        if coins[largest] <= amount: #verifica si la primera moneda cabe en amount\n",
    "            changes.append(coins[largest])# agrego esa moneda a la lista changes\n",
    "            amount-=coins[largest]\n",
    "        else:\n",
    "            largest+=1\n",
    "            \n",
    "    return changes\n",
    "  \n",
    "# establezco la lista de elementos que componen la solucion\n",
    "coins=[500,100,50,10] # como la condicion es tener la menor cantidad de monedas \n",
    "                    # se implica que la primera opcion a evaluar sea la moneda mas grande\n",
    "amount=int(input(\"Ingrese el valor que desea cambiar: \"))\n",
    "changes=coin_change(coins,amount)\n",
    "print(f\"El cambio de {amount} es : \\n{changes} con {len(changes)} monedas\")"
   ]
  },
  {
   "cell_type": "markdown",
   "id": "cd9e3bb0",
   "metadata": {},
   "source": [
    "# Seleccion de disponibilidad de salas"
   ]
  },
  {
   "cell_type": "code",
   "execution_count": 9,
   "id": "f7fc4a32",
   "metadata": {},
   "outputs": [
    {
     "name": "stdout",
     "output_type": "stream",
     "text": [
      "las personas habilitadas para ocupar la sala segun su id son: \n",
      "[0, 1, 4, 5]\n",
      " Se pueden agendar maximo 4 reuniones\n"
     ]
    }
   ],
   "source": [
    "# construir una solucion que permita tener la mayor cantidad de reuniones para una sola\n",
    "# sala dependiendo de las horas de inicio y fin\n",
    "\n",
    "def activity_selection(start,finish):\n",
    "    result=[]\n",
    "    i=0 # contador para el id de la persona que solicita la reunion\n",
    "    result.append(i)\n",
    "    for j in range(1,len(start)):\n",
    "        if finish[i]<= start[j]:\n",
    "            result.append(j)\n",
    "            i=j\n",
    "    return result\n",
    "\n",
    "# establezco la lista de elementos que componen la solucion\n",
    "start= [1,3,2,0,5,7,5]\n",
    "finish=[2,4,5,6,6,9,9]\n",
    "personas_id=activity_selection(start,finish)\n",
    "print(f\"las personas habilitadas para ocupar la sala segun su id son: \\n{personas_id}\\n Se pueden agendar maximo {len(personas_id)} reuniones\")\n",
    "\n",
    "\n"
   ]
  },
  {
   "cell_type": "markdown",
   "id": "3ec78e0e",
   "metadata": {},
   "source": [
    "# Backtracking\n",
    "Un algoritmo de backtracking es una técnica de búsqueda sistemática que se utiliza para resolver problemas mediante la exploración recursiva de todas las posibles soluciones.\n",
    "\n",
    "backtracking en Python para resolver un Sudoku"
   ]
  },
  {
   "cell_type": "code",
   "execution_count": 12,
   "id": "3ca35401",
   "metadata": {
    "scrolled": true
   },
   "outputs": [
    {
     "name": "stdout",
     "output_type": "stream",
     "text": [
      "[3, 1, 6, 5, 7, 8, 4, 9, 2]\n",
      "[5, 2, 9, 1, 3, 4, 7, 6, 8]\n",
      "[4, 8, 7, 6, 2, 9, 5, 3, 1]\n",
      "[2, 6, 3, 4, 1, 5, 9, 8, 7]\n",
      "[9, 7, 4, 8, 6, 3, 1, 2, 5]\n",
      "[8, 5, 1, 7, 9, 2, 6, 4, 3]\n",
      "[1, 3, 8, 9, 4, 7, 2, 5, 6]\n",
      "[6, 9, 2, 3, 5, 1, 8, 7, 4]\n",
      "[7, 4, 5, 2, 8, 6, 3, 1, 9]\n",
      "para este sudoku el backtraking intento 769 posibles soluciones\n",
      "[3, 2, 7, 9, 4, 8, 5, 1, 6]\n",
      "[1, 6, 8, 7, 2, 5, 3, 9, 4]\n",
      "[9, 4, 5, 6, 1, 3, 8, 2, 7]\n",
      "[4, 3, 2, 8, 9, 7, 6, 5, 1]\n",
      "[7, 8, 1, 4, 5, 6, 2, 3, 9]\n",
      "[6, 5, 9, 1, 3, 2, 7, 4, 8]\n",
      "[8, 9, 3, 2, 6, 1, 4, 7, 5]\n",
      "[5, 7, 4, 3, 8, 9, 1, 6, 2]\n",
      "[2, 1, 6, 5, 7, 4, 9, 8, 3]\n",
      "para este sudoku el backtraking intento 47297 posibles soluciones\n"
     ]
    }
   ],
   "source": [
    "contador=0\n",
    "def is_valid(grid, row, col, num):\n",
    "    for x in range(9): # coordenada de la columna\n",
    "        if grid[row][x] == num or grid[x][col] == num: # verificacion doble para buscar si num existe en horizontal o vertical\n",
    "            return False\n",
    "    start_row = row - row % 3 \n",
    "    start_col = col - col % 3 # reseteo las coordenadas del cuadrante\n",
    "    for i in range(3):\n",
    "        for j in range(3): # en este bucle anidado verifico si num existe en la matriz 3x3\n",
    "            if grid[i + start_row][j + start_col] == num:\n",
    "                return False\n",
    "    return True\n",
    "\n",
    "def solve_sudoku(grid, n=9):\n",
    "    global contador\n",
    "    #print(list(range(n)))\n",
    "    for row in range(n): # contador que recorre uno a uno los elementos de la fila\n",
    "        for col in range(n): # contador  que recorre uno a uno los elementos de la columna\n",
    "            if grid[row][col] == 0: # si el espacio esta vacio, intente llenarlo\n",
    "                for num in range(1, 10): #lista de todos los posibles valores para llenar el espacio\n",
    "                    if is_valid(grid, row, col, num): # row,col coordenadas # retorna si se puede usar el numero\n",
    "                        grid[row][col] = num\n",
    "                        \n",
    "                        contador+=1 # cuenta cuantas veces puso un nuemro en una posicion\n",
    "                        if solve_sudoku(grid, n): # en al llamada recursiva se evalua el siguiente 0 en la fila\n",
    "                            return True\n",
    "                        grid[row][col] = 0 # si no funciona borra TODO lo que hizo en la llamada recursiva\n",
    "                return False\n",
    "    return True\n",
    "\n",
    "\n",
    "# dificultad facil 49 espacios vacios\n",
    "grid1 = [\n",
    "    [3, 0, 6, 5, 0, 8, 4, 0, 0],\n",
    "    [5, 2, 0, 0, 0, 0, 0, 0, 0],\n",
    "    [0, 8, 7, 0, 0, 0, 0, 3, 1],\n",
    "    [0, 0, 3, 0, 1, 0, 0, 8, 0],\n",
    "    [9, 0, 0, 8, 6, 3, 0, 0, 5],\n",
    "    [0, 5, 0, 0, 9, 0, 6, 0, 0],\n",
    "    [1, 3, 0, 0, 0, 0, 2, 5, 0],\n",
    "    [0, 0, 0, 0, 0, 0, 0, 7, 4],\n",
    "    [0, 0, 5, 2, 0, 6, 3, 0, 0]\n",
    "]\n",
    "\n",
    "\n",
    "# dificultad dificil 57 espacios vacios\n",
    "grid2 = [\n",
    "    [0, 2, 0, 0, 0, 0, 5, 1, 0],\n",
    "    [1, 0, 0, 7, 0, 0, 0, 0, 0],\n",
    "    [0, 0, 5, 0, 0, 3, 0, 0, 7],\n",
    "    [0, 3, 0, 0, 0, 7, 6, 0, 0],\n",
    "    [7, 0, 0, 0, 0, 0, 0, 0, 9],\n",
    "    [0, 0, 9, 1, 0, 0, 0, 4, 0],\n",
    "    [8, 0, 0, 2, 0, 0, 4, 0, 0],\n",
    "    [0, 0, 0, 0, 0, 9, 0, 0, 2],\n",
    "    [0, 1, 6, 0, 0, 0, 0, 8, 0],\n",
    "]\n",
    "\n",
    "if solve_sudoku(grid1):\n",
    "    for row in grid1:\n",
    "        print(row)\n",
    "else:\n",
    "    print(\"No solution found\")\n",
    "\n",
    "print(f\"para este sudoku el backtraking intento {contador} posibles soluciones\")\n",
    "\n",
    "contador=0\n",
    "if solve_sudoku(grid2):\n",
    "    for row in grid2:\n",
    "        print(row)\n",
    "else:\n",
    "    print(\"No solution found\")\n",
    "\n",
    "print(f\"para este sudoku el backtraking intento {contador} posibles soluciones\")\n",
    "\n"
   ]
  },
  {
   "cell_type": "code",
   "execution_count": 10,
   "id": "194ca553",
   "metadata": {},
   "outputs": [
    {
     "name": "stdout",
     "output_type": "stream",
     "text": [
      "6 6\n"
     ]
    }
   ],
   "source": [
    "col=8\n",
    "row=7\n",
    "\n",
    "start_row = row - row % 3 \n",
    "start_col = col - col % 3\n",
    "print(start_row,start_col)"
   ]
  }
 ],
 "metadata": {
  "kernelspec": {
   "display_name": "Python 3 (ipykernel)",
   "language": "python",
   "name": "python3"
  },
  "language_info": {
   "codemirror_mode": {
    "name": "ipython",
    "version": 3
   },
   "file_extension": ".py",
   "mimetype": "text/x-python",
   "name": "python",
   "nbconvert_exporter": "python",
   "pygments_lexer": "ipython3",
   "version": "3.9.13"
  }
 },
 "nbformat": 4,
 "nbformat_minor": 5
}
