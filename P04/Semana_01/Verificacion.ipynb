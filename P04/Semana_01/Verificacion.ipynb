{
 "cells": [
  {
   "cell_type": "code",
   "execution_count": 1,
   "id": "9680c7c3",
   "metadata": {},
   "outputs": [
    {
     "name": "stdout",
     "output_type": "stream",
     "text": [
      "3.9.13 (main, Aug 25 2022, 23:51:50) [MSC v.1916 64 bit (AMD64)]\n"
     ]
    }
   ],
   "source": [
    "import sys\n",
    "print(sys.version)"
   ]
  },
  {
   "cell_type": "code",
   "execution_count": 2,
   "id": "c1ea7c1c",
   "metadata": {},
   "outputs": [
    {
     "name": "stdout",
     "output_type": "stream",
     "text": [
      "C:\\Users\\joseb\\SIC2024\\SIC-2024\\P04\n"
     ]
    }
   ],
   "source": [
    "import pathlib\n",
    "print(pathlib.Path(\"verificacion\").parent.absolute())"
   ]
  },
  {
   "cell_type": "code",
   "execution_count": 2,
   "id": "9f2a57e5",
   "metadata": {},
   "outputs": [
    {
     "name": "stdout",
     "output_type": "stream",
     "text": [
      "C:\\Users\\joseb\\SIC2024\\SIC-2024\\P04\\1_Semana\n",
      "['.ipynb_checkpoints', 'Verificacion.ipynb']\n"
     ]
    }
   ],
   "source": [
    "import os\n",
    "print(os.getcwd()) # ruta de donde esta guardando las cosas mi jupyter\n",
    "print(os.listdir()) # lista los archivos dentro del directorio"
   ]
  },
  {
   "cell_type": "markdown",
   "id": "0171edc6",
   "metadata": {},
   "source": [
    "# subo a github"
   ]
  }
 ],
 "metadata": {
  "kernelspec": {
   "display_name": "Python 3 (ipykernel)",
   "language": "python",
   "name": "python3"
  },
  "language_info": {
   "codemirror_mode": {
    "name": "ipython",
    "version": 3
   },
   "file_extension": ".py",
   "mimetype": "text/x-python",
   "name": "python",
   "nbconvert_exporter": "python",
   "pygments_lexer": "ipython3",
   "version": "3.9.13"
  }
 },
 "nbformat": 4,
 "nbformat_minor": 5
}
