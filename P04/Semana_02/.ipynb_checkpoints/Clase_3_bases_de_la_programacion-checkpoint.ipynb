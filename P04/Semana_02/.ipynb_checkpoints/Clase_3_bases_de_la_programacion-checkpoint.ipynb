{
 "cells": [
  {
   "cell_type": "markdown",
   "id": "ea039594",
   "metadata": {},
   "source": [
    "# Bases de la programación"
   ]
  },
  {
   "cell_type": "markdown",
   "id": "1742bf1b",
   "metadata": {},
   "source": [
    "1. snake_case : mi_variable\n",
    "2. camelCase  : miVariable\n",
    "3. PascalCase : MiVariable\n",
    "\n",
    "SIEMPRE!!! en programacion comenzamos a contar desde cero!!! \n",
    "\n",
    "1,2,3,4,5,6,7,8,9,10 ___\n",
    "0,1,2,3,4,5,6,7,8,9"
   ]
  },
  {
   "cell_type": "markdown",
   "id": "d04b7def",
   "metadata": {},
   "source": [
    "Backend : Hace el código en texto y ve resultados en consola\n",
    "Frontend : realiza toda la UI (user interface) , interfaz visual \n",
    "\n",
    "Fullstack : El que hace todo\n",
    "    "
   ]
  },
  {
   "cell_type": "code",
   "execution_count": 1,
   "id": "25f85bc6",
   "metadata": {},
   "outputs": [
    {
     "data": {
      "text/plain": [
       "'\\npara comentar \\nvarias lineas\\nutilizo:\\n'"
      ]
     },
     "execution_count": 1,
     "metadata": {},
     "output_type": "execute_result"
    }
   ],
   "source": [
    "# Comentario : una linea que el compilador ignora\n",
    "'''\n",
    "para comentar \n",
    "varias lineas\n",
    "utilizo:\n",
    "''' \n"
   ]
  },
  {
   "cell_type": "markdown",
   "id": "3a253fe6",
   "metadata": {},
   "source": [
    "### variable\n",
    "\n",
    "Es un espacio de memoria donde yo almaceno un dato\n",
    "crear, modificar, eliminar "
   ]
  },
  {
   "cell_type": "markdown",
   "id": "1042d19e",
   "metadata": {},
   "source": [
    "### Tipos de datos"
   ]
  },
  {
   "cell_type": "markdown",
   "id": "c60289b2",
   "metadata": {},
   "source": [
    "1. int   -> numero entero  : 2,3,7,8,24\n",
    "2. float -> numero decimal : 3.14 , 5.4634567890"
   ]
  },
  {
   "cell_type": "code",
   "execution_count": 2,
   "id": "87dd263b",
   "metadata": {},
   "outputs": [
    {
     "name": "stdout",
     "output_type": "stream",
     "text": [
      "7.1416\n"
     ]
    }
   ],
   "source": [
    "print(4+3.1416)\n",
    "\n",
    "#python siempre convierte el resultado al tipo de datos mas completo"
   ]
  },
  {
   "cell_type": "markdown",
   "id": "d133a81a",
   "metadata": {},
   "source": [
    "str -> string -> cadena de caracteres o cadena de texto\n",
    ": \"casa\", \"hola mundo\", \"#,&,?,!\", \"7\", \"8\""
   ]
  },
  {
   "cell_type": "code",
   "execution_count": 3,
   "id": "2160f03d",
   "metadata": {},
   "outputs": [
    {
     "ename": "SyntaxError",
     "evalue": "invalid syntax (433598579.py, line 1)",
     "output_type": "error",
     "traceback": [
      "\u001b[1;36m  File \u001b[1;32m\"C:\\Users\\joseb\\AppData\\Local\\Temp\\ipykernel_7544\\433598579.py\"\u001b[1;36m, line \u001b[1;32m1\u001b[0m\n\u001b[1;33m    bool -> booleano -> valor logico\u001b[0m\n\u001b[1;37m         ^\u001b[0m\n\u001b[1;31mSyntaxError\u001b[0m\u001b[1;31m:\u001b[0m invalid syntax\n"
     ]
    }
   ],
   "source": [
    "bool -> booleano -> valor logico\n",
    "\n",
    "True  -> verdadero -> correcto -> existe     -> si -> 1\n",
    "False -> falso     -> erroneo  -> no exisate -> no -> 0"
   ]
  },
  {
   "cell_type": "code",
   "execution_count": null,
   "id": "da613045",
   "metadata": {},
   "outputs": [],
   "source": [
    "list -> lista -> array\n",
    "\n",
    "lista_mercado = [\"papas\",\"leche\",\"pan\"]\n",
    "                    0       1      2\n",
    "index-> indice-> indicador que me dice donde esta el dato dentro de la caja\n",
    "value -> el valor real, o lo que esta guardado dentro de la caja\n",
    "\n",
    "\n",
    "¿donde está la leche?\n",
    "index ->  1\n",
    "value -> \"leche\"\n",
    "\n",
    "print(lista_mercado[1]) #leche\n",
    "\n",
    "estudiante1=[\"dwight\",\"sutherland\",20,\"panama\",\"23456789\"]\n",
    "\n",
    "#LISTAS DE LISTAS\n",
    "matriz=[ [1,2,3],  #COORDEJADAS X,Y NAVEGADAS DENTRO DE\n",
    "         [4,5,6],\n",
    "         [7,8,9] ]\n",
    "\n",
    "print(matriz[2][1]) # 8"
   ]
  },
  {
   "cell_type": "code",
   "execution_count": null,
   "id": "b5d05744",
   "metadata": {},
   "outputs": [],
   "source": [
    "#Diccionarios\n",
    "# index -> key\n",
    "# value\n",
    "\n",
    "diccionario={\"key\":\"value\"}\n",
    "\n",
    "dic_estudiante1={\"nombre\":\"dwight\",\n",
    "                 \"apellido\":\"sutherland\",\n",
    "                 \"edad\":20,\n",
    "                 \"ciudad\":\"panama\",\n",
    "                 \"id\":\"23456789\"}\n",
    "\n",
    "print(dic_estudiante1[\"apellido\"]) #sutherland\n",
    "\n",
    "#bunch : diccionario de diccionarios\n",
    "\n",
    "P04={\"Estudiante1\":dic_estudiante1,\"Estudiante2\":dic_estudiante2}\n",
    "\n",
    "print(P04[\"Estudiante1\"][\"apellido\"])\n",
    "\n",
    "\n",
    "coordenas   =[2,4] ->listas -> se dejan modificar\n",
    "coordenadas =(2,4) -> tuplas -> NO \n",
    "\n"
   ]
  },
  {
   "cell_type": "markdown",
   "id": "3fcea400",
   "metadata": {},
   "source": [
    "### Operadores algebraicos \n",
    "1. suma             +\n",
    "2. resta            -\n",
    "3. multiplicacion   *\n",
    "4. Division         /\n",
    "5. modulo(residuo)  %\n",
    "6. division exacta  //\n",
    "7. potencia         **\n",
    "8. raiz cuadrada    n**(1/2)\n"
   ]
  },
  {
   "cell_type": "markdown",
   "id": "253186f7",
   "metadata": {},
   "source": [
    "### Comparadores algebraicos\n",
    "\n",
    "SON PREGUNTAS!!!!!!\n",
    "\n",
    "1. mayor          >\n",
    "2. menor          <\n",
    "3. mayor o igual  >=  \n",
    "4. menor o igual  <=\n",
    "5. igual          ==\n",
    "6. diferente      !=\n",
    "\n",
    "RETORNAN True o False"
   ]
  },
  {
   "cell_type": "markdown",
   "id": "b053464a",
   "metadata": {},
   "source": [
    "### Operadores logicos\n",
    "\n",
    "NOT  -> NO -> invierte\n",
    "AND  -> Y  -> && -> cuando 2 condiciones si o si se tienen que cumplir\n",
    "OR   -  Ó  -> || -> cuando cualqueir opcion me sirve\n",
    "\n",
    "True = not False\n",
    "\n",
    "Necesito hacer un login para instagram\n",
    "\n",
    "usuario == True and password == True  :correcto\n",
    "\n",
    "hace MUCHISIMO sol or esta lloviendo : llevo sombrilla\n",
    "\n"
   ]
  },
  {
   "cell_type": "markdown",
   "id": "41a584ae",
   "metadata": {},
   "source": [
    "# IDENTADO\n",
    "\n",
    "IDENTACION, es el espacio o tabulación que dejo a la izquierda\n",
    "usualmente viene despues de un :\n",
    "en python me dice que esta dentro de otra seccion de código"
   ]
  },
  {
   "cell_type": "markdown",
   "id": "dae3ddc8",
   "metadata": {},
   "source": [
    "### Toma de desiciones\n",
    "\n",
    "Pasos para resolver un problema \n",
    "\n",
    "1. que me estan pidiendo?     -> salida \n",
    "2. que necesito para lograrlo -> proceso\n",
    "3. que necesito para realizar el proceso  -> entradas\n",
    "\n",
    "\n",
    "problema : no me escuchan\n",
    "\n",
    "1. me escuchen\n",
    "2. revisar el audio\n",
    "3. ver el estado del micro en zoom\n",
    "\n",
    "Toma de dicisiones:\n",
    "\n",
    "Planteo una pregunta de si o no y actuo segun la respuesta\n"
   ]
  },
  {
   "cell_type": "code",
   "execution_count": 6,
   "id": "fe0a0c93",
   "metadata": {},
   "outputs": [
    {
     "name": "stdout",
     "output_type": "stream",
     "text": [
      "donde está la caja?\n",
      "esta en el centro\n"
     ]
    }
   ],
   "source": [
    "#sintaxis en python\n",
    "'''\n",
    "if condicion == respuesta :\n",
    "    proceso\n",
    "elif condicion2 == respuesta:\n",
    "    proceso\n",
    "else: # opcion de descarte\n",
    "    proceso\n",
    "'''\n",
    "\n",
    "print(\"donde está la caja?\")\n",
    "\n",
    "caja= \"centro\"\n",
    "\n",
    "if   caja == \"arriba\":\n",
    "    print(\"esta arriba\")\n",
    "elif caja == \"abajo\":\n",
    "    print(\"esta abajo\")\n",
    "elif caja == \"centro\":\n",
    "    print(\"esta en el centro\")\n",
    "else:\n",
    "    print(\"hay un error\")  \n",
    "    \n",
    "    "
   ]
  },
  {
   "cell_type": "markdown",
   "id": "247c95a8",
   "metadata": {},
   "source": [
    "### Entrada y salida de datos\n",
    "entrada -> pido al usuario\n",
    "Salida  -> muestroe n pantalla"
   ]
  },
  {
   "cell_type": "code",
   "execution_count": 7,
   "id": "27fe7c97",
   "metadata": {},
   "outputs": [
    {
     "name": "stdout",
     "output_type": "stream",
     "text": [
      " \t ingrese su nombre:  \n",
      "jose\n",
      "\t ingrese un numero : \n",
      "3\n"
     ]
    }
   ],
   "source": [
    "#entrada \n",
    "\n",
    "nombre = input(\" \\t ingrese su nombre:  \\n\")\n",
    "#python SIEMPRE!!! toma la entrada como string\n",
    "\n",
    "numero = int(input(\"\\t ingrese un numero : \\n\"))\n"
   ]
  },
  {
   "cell_type": "code",
   "execution_count": null,
   "id": "c467d2e9",
   "metadata": {},
   "outputs": [],
   "source": [
    "# conversores de datos\n",
    "\n",
    "int()\n",
    "float()\n",
    "str()\n",
    "bool()\n",
    "list()\n",
    "    "
   ]
  },
  {
   "cell_type": "code",
   "execution_count": 20,
   "id": "f7f89efa",
   "metadata": {
    "scrolled": true
   },
   "outputs": [
    {
     "name": "stdout",
     "output_type": "stream",
     "text": [
      "hola mundo\n",
      "hola mundo\n",
      "holamundo\n",
      "la temperatura en panama es : 24°\n",
      "la temperatura en panama es: 24°\n",
      "la temperatura de panama es: 24°\n",
      "la temperatura de panama es:24° y la temperatura de colombia es:26°\n"
     ]
    }
   ],
   "source": [
    "#salida\n",
    "texto = \"mundo\"\n",
    "print(\"hola mundo\")\n",
    "print(\"hola\",texto)\n",
    "print(\"hola\"+texto)\n",
    "\n",
    "temp_panama=\"24°\"\n",
    "temp_col =\"26°\"\n",
    "print(\"la temperatura en panama es :\",temp_panama)\n",
    "\n",
    "print(\"la temperatura en panama es: {}\".format(temp_panama))\n",
    "print(f\"la temperatura de panama es: {temp_panama}\")\n",
    "print(f\"la temperatura de panama es:{temp_panama} y la temperatura de colombia es:{temp_col}\")\n"
   ]
  },
  {
   "cell_type": "code",
   "execution_count": 25,
   "id": "c08f391d",
   "metadata": {},
   "outputs": [
    {
     "name": "stdout",
     "output_type": "stream",
     "text": [
      "la temperatura de panama es:12° y la temperatura de colombia es:26°\n"
     ]
    }
   ],
   "source": [
    "temp_panama=\"24°\"\n",
    "temp_col =\"26°\"\n",
    "print(f\"la temperatura de panama es:{temp_panama} y la temperatura de colombia es:{temp_col}\")"
   ]
  },
  {
   "cell_type": "code",
   "execution_count": 24,
   "id": "327a8994",
   "metadata": {},
   "outputs": [
    {
     "name": "stdout",
     "output_type": "stream",
     "text": [
      "12°\n"
     ]
    }
   ],
   "source": [
    "temp_ur=\"12°\"\n",
    "print(temp_ur)"
   ]
  },
  {
   "cell_type": "markdown",
   "id": "a95de2c3",
   "metadata": {},
   "source": [
    "### Bucles, ciclos o loop\n",
    "\n",
    "ago que se repite\n",
    "* infinito\n",
    "* un numero determinado de veces\n",
    "\n",
    "### while\n",
    "\n",
    "while condicion == valor :\n",
    "    proceso\n",
    "    \n",
    "Enable -> habilitador -> encendido\n",
    "\n",
    "while True: # para bucles infinitos/finitos\n",
    "    reloj()\n",
    "    \n",
    "    \n",
    "game_over=0\n",
    "while game_over != 0 :\n",
    "    mario_bros()\n",
    "    \n",
    "### for    \n",
    "    \n",
    "finitos  con numero de repeticiones     \n",
    "\n",
    "for condicion in (rango de valores ):\n",
    "    proceso\n",
    "\n",
    "rango de valores (inicio, fin , paso)\n",
    "\n"
   ]
  },
  {
   "cell_type": "code",
   "execution_count": 6,
   "id": "7522af2e",
   "metadata": {},
   "outputs": [
    {
     "name": "stdout",
     "output_type": "stream",
     "text": [
      "1\n",
      "2\n",
      "3\n",
      "4\n",
      "5\n",
      "6\n",
      "7\n",
      "8\n",
      "9\n",
      "10\n",
      "11\n",
      "12\n",
      "13\n",
      "14\n",
      "15\n",
      "16\n",
      "17\n",
      "18\n",
      "19\n",
      "20\n",
      "21\n"
     ]
    }
   ],
   "source": [
    "contador=0\n",
    "while contador<21:\n",
    "    \n",
    "    contador+=1  # contador = contador +1 \n",
    "    print(contador)\n",
    "#1-20\n",
    "#0-20\n"
   ]
  },
  {
   "cell_type": "code",
   "execution_count": 4,
   "id": "87a5440d",
   "metadata": {},
   "outputs": [
    {
     "name": "stdout",
     "output_type": "stream",
     "text": [
      "[1, 2, 3, 4, 5, 6, 7, 8, 9, 10, 11, 12, 13, 14, 15, 16, 17, 18, 19, 20]\n",
      "[6, 7, 8, 9, 10, 11, 12, 13, 14, 15, 16]\n",
      "___________________________________________\n",
      "[5, 10, 15, 20, 25, 30, 35, 40, 45, 50, 55, 60, 65, 70, 75, 80, 85, 90, 95, 100]\n"
     ]
    }
   ],
   "source": [
    "#range(inicio, fin ,paso)\n",
    "#en la funcion range nunca se toma el ultimo valor -> fin-1\n",
    "\n",
    "\n",
    "print(list(range(1,21,1)))\n",
    "print(list(range(6,17,1)))\n",
    "print(\"___________________________________________\")\n",
    "print(list(range(5,101,5)))"
   ]
  },
  {
   "cell_type": "code",
   "execution_count": 8,
   "id": "4d2c9382",
   "metadata": {},
   "outputs": [
    {
     "name": "stdout",
     "output_type": "stream",
     "text": [
      "0\n",
      "1\n",
      "2\n",
      "3\n",
      "4\n",
      "5\n",
      "6\n",
      "7\n",
      "8\n",
      "9\n",
      "10\n",
      "11\n",
      "12\n",
      "13\n",
      "14\n",
      "15\n",
      "16\n",
      "17\n",
      "18\n",
      "19\n",
      "20\n"
     ]
    }
   ],
   "source": [
    "for contador in range (0,21,1):\n",
    "    print(contador)"
   ]
  },
  {
   "cell_type": "code",
   "execution_count": 13,
   "id": "942d1fc7",
   "metadata": {},
   "outputs": [
    {
     "name": "stdout",
     "output_type": "stream",
     "text": [
      "carro\n",
      "avion\n",
      "tren\n",
      "bote\n",
      "___________________________________________________\n",
      "carro\n",
      "avion\n",
      "tren\n",
      "bote\n",
      "___________________________________________________\n",
      "bote\n"
     ]
    }
   ],
   "source": [
    "lista=[\"carro\",\"avion\",\"tren\",\"bote\"]\n",
    "print(lista[0])\n",
    "print(lista[1])\n",
    "print(lista[2])\n",
    "print(lista[3])\n",
    "\n",
    "print(\"___________________________________________________\")\n",
    "\n",
    "for index in range(0,4,1):\n",
    "    print(lista[index])\n",
    "    \n",
    "print(\"___________________________________________________\")\n",
    "\n",
    "for index in lista:\n",
    "    # pass lo utilizo cuando no deseo poner nada por el momento\n",
    "    print(index)"
   ]
  },
  {
   "cell_type": "markdown",
   "id": "4d900a3e",
   "metadata": {},
   "source": [
    "### BUCLE ANIDADO \n",
    "\n",
    "es tener un for dentro de otro for\n",
    "para recorrer una matriz, o recorre una cuadricula, o algo que tenga 2 o mas coordenadas"
   ]
  },
  {
   "cell_type": "code",
   "execution_count": 20,
   "id": "651e4ec3",
   "metadata": {},
   "outputs": [
    {
     "name": "stdout",
     "output_type": "stream",
     "text": [
      "6\n",
      "1 2 3 \n",
      "4 5 6 \n",
      "7 8 9 \n"
     ]
    }
   ],
   "source": [
    "#una matriz es una lista de listas \n",
    "\n",
    "#      0 1 2\n",
    "fila0=[1,2,3]\n",
    "fila1=[4,5,6]\n",
    "fila2=[7,8,9]\n",
    "matriz=[fila0,fila1,fila2]\n",
    "\n",
    "#exactamente lo mismo\n",
    "\n",
    "teclado=[[1,2,3],[4,5,6],[7,8,9]]\n",
    "#primero filas despues columnas\n",
    "print(teclado[1][2])\n",
    "\n",
    "\n",
    "#utilizamos un bucle anidado para recorrer todos los elementos de la matriz\n",
    "\n",
    "for filas in range(0,3,1):\n",
    "    for columnas in range(0,3,1):\n",
    "        print(teclado[filas][columnas],end=\" \")\n",
    "    print()\n",
    "       "
   ]
  },
  {
   "cell_type": "code",
   "execution_count": null,
   "id": "5a15b20c",
   "metadata": {},
   "outputs": [],
   "source": [
    "Falta dentro de lo basico funciones y clases, para ello ir a semana3_clase 5 y 6"
   ]
  }
 ],
 "metadata": {
  "kernelspec": {
   "display_name": "Python 3 (ipykernel)",
   "language": "python",
   "name": "python3"
  },
  "language_info": {
   "codemirror_mode": {
    "name": "ipython",
    "version": 3
   },
   "file_extension": ".py",
   "mimetype": "text/x-python",
   "name": "python",
   "nbconvert_exporter": "python",
   "pygments_lexer": "ipython3",
   "version": "3.9.13"
  }
 },
 "nbformat": 4,
 "nbformat_minor": 5
}
