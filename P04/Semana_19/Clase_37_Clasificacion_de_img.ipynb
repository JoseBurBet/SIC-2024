{
 "cells": [
  {
   "cell_type": "markdown",
   "id": "849d15fa",
   "metadata": {},
   "source": [
    "# Ejemplo 5, clasificacion de imagenes  y comparación de 2 redes neuronales"
   ]
  },
  {
   "cell_type": "markdown",
   "id": "2fe24726",
   "metadata": {},
   "source": [
    "Data:\n",
    "* https://www.tensorflow.org/datasets/catalog/fashion_mnist\n",
    "* https://keras.io/api/datasets/fashion_mnist/"
   ]
  },
  {
   "cell_type": "markdown",
   "id": "7df26d0c",
   "metadata": {},
   "source": [
    "# Maquina de red neuronal  sencilla (feedforward) \n",
    "(Sequential - Dense)"
   ]
  },
  {
   "cell_type": "code",
   "execution_count": 1,
   "id": "6d0f9c96",
   "metadata": {},
   "outputs": [
    {
     "name": "stdout",
     "output_type": "stream",
     "text": [
      "[[  0   0   0   0   0   1   0   0   0   0  41 188 103  54  48  43  87 168\n",
      "  133  16   0   0   0   0   0   0   0   0]\n",
      " [  0   0   0   1   0   0   0  49 136 219 216 228 236 255 255 255 255 217\n",
      "  215 254 231 160  45   0   0   0   0   0]\n",
      " [  0   0   0   0   0  14 176 222 224 212 203 198 196 200 215 204 202 201\n",
      "  201 201 209 218 224 164   0   0   0   0]\n",
      " [  0   0   0   0   0 188 219 200 198 202 198 199 199 201 196 198 198 200\n",
      "  200 200 200 201 200 225  41   0   0   0]\n",
      " [  0   0   0   0  51 219 199 203 203 212 238 248 250 245 249 246 247 252\n",
      "  248 235 207 203 203 222 140   0   0   0]\n",
      " [  0   0   0   0 116 226 206 204 207 204 101  75  47  73  48  50  45  51\n",
      "   63 113 222 202 206 220 224   0   0   0]\n",
      " [  0   0   0   0 200 222 209 203 215 200   0  70  98   0 103  59  68  71\n",
      "   49   0 219 206 214 210 250  38   0   0]\n",
      " [  0   0   0   0 247 218 212 210 215 214   0 254 243 139 255 174 251 255\n",
      "  205   0 215 217 214 208 220  95   0   0]\n",
      " [  0   0   0  45 226 214 214 215 224 205   0  42  35  60  16  17  12  13\n",
      "   70   0 189 216 212 206 212 156   0   0]\n",
      " [  0   0   0 164 235 214 211 220 216 201  52  71  89  94  83  78  70  76\n",
      "   92  87 206 207 222 213 219 208   0   0]\n",
      " [  0   0   0 106 187 223 237 248 211 198 252 250 248 245 248 252 253 250\n",
      "  252 239 201 212 225 215 193 113   0   0]\n",
      " [  0   0   0   0   0  17  54 159 222 193 208 192 197 200 200 200 200 201\n",
      "  203 195 210 165   0   0   0   0   0   0]\n",
      " [  0   0   0   0   0   0   0  47 225 192 214 203 206 204 204 205 206 204\n",
      "  212 197 218 107   0   0   0   0   0   0]\n",
      " [  0   0   0   0   1   6   0  46 212 195 212 202 206 205 204 205 206 204\n",
      "  212 200 218  91   0   3   1   0   0   0]\n",
      " [  0   0   0   0   0   1   0  11 197 199 205 202 205 206 204 205 207 204\n",
      "  205 205 218  77   0   5   0   0   0   0]\n",
      " [  0   0   0   0   0   3   0   2 191 198 201 205 206 205 205 206 209 206\n",
      "  199 209 219  74   0   5   0   0   0   0]\n",
      " [  0   0   0   0   0   2   0   0 188 197 200 207 207 204 207 207 210 208\n",
      "  198 207 221  72   0   4   0   0   0   0]\n",
      " [  0   0   0   0   0   2   0   0 215 198 203 206 208 205 207 207 210 208\n",
      "  200 202 222  75   0   4   0   0   0   0]\n",
      " [  0   0   0   0   0   1   0   0 212 198 209 206 209 206 208 207 211 206\n",
      "  205 198 221  80   0   3   0   0   0   0]\n",
      " [  0   0   0   0   0   1   0   0 204 201 205 208 207 205 211 205 210 210\n",
      "  209 195 221  96   0   3   0   0   0   0]\n",
      " [  0   0   0   0   0   1   0   0 202 201 205 209 207 205 213 206 210 209\n",
      "  210 194 217 105   0   2   0   0   0   0]\n",
      " [  0   0   0   0   0   1   0   0 204 204 205 208 207 205 215 207 210 208\n",
      "  211 193 213 115   0   2   0   0   0   0]\n",
      " [  0   0   0   0   0   0   0   0 204 207 207 208 206 206 215 210 210 207\n",
      "  212 195 210 118   0   2   0   0   0   0]\n",
      " [  0   0   0   0   0   1   0   0 198 208 208 208 204 207 212 212 210 207\n",
      "  211 196 207 121   0   1   0   0   0   0]\n",
      " [  0   0   0   0   0   1   0   0 198 210 207 208 206 209 213 212 211 207\n",
      "  210 197 207 124   0   1   0   0   0   0]\n",
      " [  0   0   0   0   0   0   0   0 172 210 203 201 199 204 207 205 204 201\n",
      "  205 197 206 127   0   0   0   0   0   0]\n",
      " [  0   0   0   0   0   0   0   0 188 221 214 234 236 238 244 244 244 240\n",
      "  243 214 224 162   0   2   0   0   0   0]\n",
      " [  0   0   0   0   0   1   0   0 139 146 130 135 135 137 125 124 125 121\n",
      "  119 114 130  76   0   0   0   0   0   0]]\n",
      "60000\n"
     ]
    }
   ],
   "source": [
    "import warnings\n",
    "warnings.filterwarnings('ignore')\n",
    "\n",
    "import numpy as np\n",
    "import datetime\n",
    "import tensorflow as tf\n",
    "from tensorflow.keras.datasets import fashion_mnist\n",
    "'''\n",
    "fashion_mnist es un conjunto de datos de imágenes de ropa y accesorios,\n",
    "similar al conjunto de datos MNIST, pero en lugar de dígitos, contiene imágenes\n",
    "de ropa y accesorios. El conjunto de datos fue creado por Zalando SE y se encuentra\n",
    "bajo la licencia MIT.\n",
    "'''\n",
    "\n",
    "#Cargar Set de Datos\n",
    "(X_train, y_train), (X_test, y_test) = fashion_mnist.load_data()\n",
    "\n",
    "'''\n",
    "X_train y X_test son matrices de NumPy que contienen las imágenes de ropa y accesorios,\n",
    "con forma (60000, 28, 28) y (10000, 28, 28), respectivamente.\n",
    "\n",
    "Cada imagen es una matriz de 28x28 píxeles, con valores que van de 0 a 255.\n",
    "y_train y y_test son matrices de NumPy que contienen las etiquetas correspondientes\n",
    "a cada imagen, con forma (60000,) y (10000,), respectivamente. \n",
    "\n",
    "Las etiquetas son enteros que van de 0 a 9, cada uno correspondiente a una categoría\n",
    "de ropa o accesorio.\n",
    "\n",
    "'''\n",
    "print(X_train[1])\n",
    "print(len(X_train))"
   ]
  },
  {
   "cell_type": "markdown",
   "id": "9c036ceb",
   "metadata": {},
   "source": [
    "Se esta trabajando con un conjunto de datos ya vectorizado y escalado en escala de gris, existen maneras genericas de vectorizar una imagen, como por ejemplo:\n"
   ]
  },
  {
   "cell_type": "code",
   "execution_count": 2,
   "id": "66b9ea39",
   "metadata": {},
   "outputs": [
    {
     "data": {
      "text/plain": [
       "\"\\n# Vectorizacion de las imagenes\\n\\nfrom keras.preprocessing.image import array_to_img, img_to_array, load_img\\n\\nimport os\\n\\nfor fname in os.listdir('imagen'):\\n    print fname\\n\""
      ]
     },
     "execution_count": 2,
     "metadata": {},
     "output_type": "execute_result"
    }
   ],
   "source": [
    "'''\n",
    "# Vectorizacion de las imagenes\n",
    "\n",
    "from keras.preprocessing.image import array_to_img, img_to_array, load_img\n",
    "\n",
    "import os\n",
    "\n",
    "for fname in os.listdir('imagen'):\n",
    "    print fname\n",
    "'''\n",
    "\n",
    "# convertir rgb a gray_scale https://e2eml.school/convert_rgb_to_grayscale\n",
    "# convierte cada pixel de la imagen a su rrespectivo valor de color entre 0 y 255\n",
    "\n"
   ]
  },
  {
   "cell_type": "code",
   "execution_count": 2,
   "id": "6ff39c59",
   "metadata": {},
   "outputs": [
    {
     "name": "stdout",
     "output_type": "stream",
     "text": [
      "(60000, 784)\n"
     ]
    }
   ],
   "source": [
    "#Normalizacion de Imagenes\n",
    "X_train = X_train / 255.0\n",
    "X_test = X_test / 255.0\n",
    "# al dividir por 255 que es el maximo, estoy escalando entre 0 y 1\n",
    "\n",
    "#Reformar Datos (lo paso a 2 dimensiones, donde tengo:  # de lineas, la data completa)\n",
    "X_train = X_train.reshape(-1, 28*28)\n",
    "print(X_train.shape)\n",
    "\n",
    "X_test = X_test.reshape(-1, 28*28)\n"
   ]
  },
  {
   "cell_type": "code",
   "execution_count": 4,
   "id": "7821044c",
   "metadata": {},
   "outputs": [],
   "source": [
    "# CREANDO RED NEURONAL\n",
    "#Definir Modelo\n",
    "model = tf.keras.models.Sequential()\n",
    "\n",
    "#Primera Capa\n",
    "model.add(tf.keras.layers.Dense(units=128, activation='relu', input_shape=(784, )))\n",
    "# recordemos que el input son las variables, si tengo una matriz 28x28 =784\n",
    "\n",
    "#Segunda Capa\n",
    "model.add(tf.keras.layers.Dense(units=64, activation='relu'))\n",
    "\n",
    "#Capa Desercion\n",
    "model.add(tf.keras.layers.Dropout(0.2))"
   ]
  },
  {
   "cell_type": "markdown",
   "id": "e2131cd2",
   "metadata": {},
   "source": [
    "En una red neuronal, una capa de deserción (también conocida como Dropout) es una técnica de regularización que se utiliza para prevenir el sobreajuste (overfitting) de la red neuronal. El sobreajuste ocurre cuando la red neuronal se ajusta demasiado bien a los datos de entrenamiento y no generaliza bien a nuevos datos.\n",
    "\n",
    "La capa de deserción funciona \"desactivando\" aleatoriamente una fracción de las neuronas de la capa durante el entrenamiento. Esto significa que, en cada iteración de entrenamiento, algunas neuronas no participan en la propagación de la señal y no se actualizan sus pesos. De esta manera, la red neuronal no se ajusta demasiado a los datos de entrenamiento y se vuelve más robusta y generalizable.\n",
    "\n",
    "0.2 es el parámetro de deserción, es decir que este caso el 20% de las neuronas se desactivarán.\n",
    "Durante el entrenamiento, el 20% de las neuronas de la capa anterior se desactivarán aleatoriamente. Esto significa que, en cada iteración de entrenamiento, solo el 80% de las neuronas participarán en la propagación de la señal y se actualizarán sus pesos.\n",
    "\n"
   ]
  },
  {
   "cell_type": "code",
   "execution_count": 5,
   "id": "e8197069",
   "metadata": {},
   "outputs": [],
   "source": [
    "#Capa OutPut\n",
    "model.add(tf.keras.layers.Dense(units=10, activation='softmax'))"
   ]
  },
  {
   "attachments": {
    "imagen_2024-06-03_153524956.png": {
     "image/png": "[encoded data removed]"
    }
   },
   "cell_type": "markdown",
   "id": "080d9670",
   "metadata": {},
   "source": [
    "En la capa de salida tenemos 10 neuronas, lo que significa que\n",
    "tenemos 10 salidas!!, recordando que este clasificador de prendas de vestir tiene\n",
    "10 clasificaciones\n",
    "\n",
    "![imagen_2024-06-03_153524956.png](attachment:imagen_2024-06-03_153524956.png)"
   ]
  },
  {
   "cell_type": "code",
   "execution_count": 6,
   "id": "b2911e44",
   "metadata": {},
   "outputs": [
    {
     "data": {
      "text/html": [
       "<pre style=\"white-space:pre;overflow-x:auto;line-height:normal;font-family:Menlo,'DejaVu Sans Mono',consolas,'Courier New',monospace\"><span style=\"font-weight: bold\">Model: \"sequential\"</span>\n",
       "</pre>\n"
      ],
      "text/plain": [
       "\u001b[1mModel: \"sequential\"\u001b[0m\n"
      ]
     },
     "metadata": {},
     "output_type": "display_data"
    },
    {
     "data": {
      "text/html": [
       "<pre style=\"white-space:pre;overflow-x:auto;line-height:normal;font-family:Menlo,'DejaVu Sans Mono',consolas,'Courier New',monospace\">┏━━━━━━━━━━━━━━━━━━━━━━━━━━━━━━━━━━━━━━┳━━━━━━━━━━━━━━━━━━━━━━━━━━━━━┳━━━━━━━━━━━━━━━━━┓\n",
       "┃<span style=\"font-weight: bold\"> Layer (type)                         </span>┃<span style=\"font-weight: bold\"> Output Shape                </span>┃<span style=\"font-weight: bold\">         Param # </span>┃\n",
       "┡━━━━━━━━━━━━━━━━━━━━━━━━━━━━━━━━━━━━━━╇━━━━━━━━━━━━━━━━━━━━━━━━━━━━━╇━━━━━━━━━━━━━━━━━┩\n",
       "│ dense (<span style=\"color: #0087ff; text-decoration-color: #0087ff\">Dense</span>)                        │ (<span style=\"color: #00d7ff; text-decoration-color: #00d7ff\">None</span>, <span style=\"color: #00af00; text-decoration-color: #00af00\">128</span>)                 │         <span style=\"color: #00af00; text-decoration-color: #00af00\">100,480</span> │\n",
       "├──────────────────────────────────────┼─────────────────────────────┼─────────────────┤\n",
       "│ dense_1 (<span style=\"color: #0087ff; text-decoration-color: #0087ff\">Dense</span>)                      │ (<span style=\"color: #00d7ff; text-decoration-color: #00d7ff\">None</span>, <span style=\"color: #00af00; text-decoration-color: #00af00\">64</span>)                  │           <span style=\"color: #00af00; text-decoration-color: #00af00\">8,256</span> │\n",
       "├──────────────────────────────────────┼─────────────────────────────┼─────────────────┤\n",
       "│ dropout (<span style=\"color: #0087ff; text-decoration-color: #0087ff\">Dropout</span>)                    │ (<span style=\"color: #00d7ff; text-decoration-color: #00d7ff\">None</span>, <span style=\"color: #00af00; text-decoration-color: #00af00\">64</span>)                  │               <span style=\"color: #00af00; text-decoration-color: #00af00\">0</span> │\n",
       "├──────────────────────────────────────┼─────────────────────────────┼─────────────────┤\n",
       "│ dense_2 (<span style=\"color: #0087ff; text-decoration-color: #0087ff\">Dense</span>)                      │ (<span style=\"color: #00d7ff; text-decoration-color: #00d7ff\">None</span>, <span style=\"color: #00af00; text-decoration-color: #00af00\">10</span>)                  │             <span style=\"color: #00af00; text-decoration-color: #00af00\">650</span> │\n",
       "└──────────────────────────────────────┴─────────────────────────────┴─────────────────┘\n",
       "</pre>\n"
      ],
      "text/plain": [
       "┏━━━━━━━━━━━━━━━━━━━━━━━━━━━━━━━━━━━━━━┳━━━━━━━━━━━━━━━━━━━━━━━━━━━━━┳━━━━━━━━━━━━━━━━━┓\n",
       "┃\u001b[1m \u001b[0m\u001b[1mLayer (type)                        \u001b[0m\u001b[1m \u001b[0m┃\u001b[1m \u001b[0m\u001b[1mOutput Shape               \u001b[0m\u001b[1m \u001b[0m┃\u001b[1m \u001b[0m\u001b[1m        Param #\u001b[0m\u001b[1m \u001b[0m┃\n",
       "┡━━━━━━━━━━━━━━━━━━━━━━━━━━━━━━━━━━━━━━╇━━━━━━━━━━━━━━━━━━━━━━━━━━━━━╇━━━━━━━━━━━━━━━━━┩\n",
       "│ dense (\u001b[38;5;33mDense\u001b[0m)                        │ (\u001b[38;5;45mNone\u001b[0m, \u001b[38;5;34m128\u001b[0m)                 │         \u001b[38;5;34m100,480\u001b[0m │\n",
       "├──────────────────────────────────────┼─────────────────────────────┼─────────────────┤\n",
       "│ dense_1 (\u001b[38;5;33mDense\u001b[0m)                      │ (\u001b[38;5;45mNone\u001b[0m, \u001b[38;5;34m64\u001b[0m)                  │           \u001b[38;5;34m8,256\u001b[0m │\n",
       "├──────────────────────────────────────┼─────────────────────────────┼─────────────────┤\n",
       "│ dropout (\u001b[38;5;33mDropout\u001b[0m)                    │ (\u001b[38;5;45mNone\u001b[0m, \u001b[38;5;34m64\u001b[0m)                  │               \u001b[38;5;34m0\u001b[0m │\n",
       "├──────────────────────────────────────┼─────────────────────────────┼─────────────────┤\n",
       "│ dense_2 (\u001b[38;5;33mDense\u001b[0m)                      │ (\u001b[38;5;45mNone\u001b[0m, \u001b[38;5;34m10\u001b[0m)                  │             \u001b[38;5;34m650\u001b[0m │\n",
       "└──────────────────────────────────────┴─────────────────────────────┴─────────────────┘\n"
      ]
     },
     "metadata": {},
     "output_type": "display_data"
    },
    {
     "data": {
      "text/html": [
       "<pre style=\"white-space:pre;overflow-x:auto;line-height:normal;font-family:Menlo,'DejaVu Sans Mono',consolas,'Courier New',monospace\"><span style=\"font-weight: bold\"> Total params: </span><span style=\"color: #00af00; text-decoration-color: #00af00\">109,386</span> (427.29 KB)\n",
       "</pre>\n"
      ],
      "text/plain": [
       "\u001b[1m Total params: \u001b[0m\u001b[38;5;34m109,386\u001b[0m (427.29 KB)\n"
      ]
     },
     "metadata": {},
     "output_type": "display_data"
    },
    {
     "data": {
      "text/html": [
       "<pre style=\"white-space:pre;overflow-x:auto;line-height:normal;font-family:Menlo,'DejaVu Sans Mono',consolas,'Courier New',monospace\"><span style=\"font-weight: bold\"> Trainable params: </span><span style=\"color: #00af00; text-decoration-color: #00af00\">109,386</span> (427.29 KB)\n",
       "</pre>\n"
      ],
      "text/plain": [
       "\u001b[1m Trainable params: \u001b[0m\u001b[38;5;34m109,386\u001b[0m (427.29 KB)\n"
      ]
     },
     "metadata": {},
     "output_type": "display_data"
    },
    {
     "data": {
      "text/html": [
       "<pre style=\"white-space:pre;overflow-x:auto;line-height:normal;font-family:Menlo,'DejaVu Sans Mono',consolas,'Courier New',monospace\"><span style=\"font-weight: bold\"> Non-trainable params: </span><span style=\"color: #00af00; text-decoration-color: #00af00\">0</span> (0.00 B)\n",
       "</pre>\n"
      ],
      "text/plain": [
       "\u001b[1m Non-trainable params: \u001b[0m\u001b[38;5;34m0\u001b[0m (0.00 B)\n"
      ]
     },
     "metadata": {},
     "output_type": "display_data"
    }
   ],
   "source": [
    "#COMPILADO\n",
    "model.compile(optimizer='adam', loss='sparse_categorical_crossentropy',\\\n",
    "              metrics=['sparse_categorical_accuracy'])\n",
    "model.summary()"
   ]
  },
  {
   "cell_type": "code",
   "execution_count": 7,
   "id": "79b2201f",
   "metadata": {},
   "outputs": [
    {
     "name": "stdout",
     "output_type": "stream",
     "text": [
      "Epoch 1/10\n",
      "\u001b[1m1875/1875\u001b[0m \u001b[32m━━━━━━━━━━━━━━━━━━━━\u001b[0m\u001b[37m\u001b[0m \u001b[1m5s\u001b[0m 2ms/step - loss: 0.6708 - sparse_categorical_accuracy: 0.7653\n",
      "Epoch 2/10\n",
      "\u001b[1m1875/1875\u001b[0m \u001b[32m━━━━━━━━━━━━━━━━━━━━\u001b[0m\u001b[37m\u001b[0m \u001b[1m3s\u001b[0m 2ms/step - loss: 0.3940 - sparse_categorical_accuracy: 0.8570\n",
      "Epoch 3/10\n",
      "\u001b[1m1875/1875\u001b[0m \u001b[32m━━━━━━━━━━━━━━━━━━━━\u001b[0m\u001b[37m\u001b[0m \u001b[1m3s\u001b[0m 2ms/step - loss: 0.3537 - sparse_categorical_accuracy: 0.8688\n",
      "Epoch 4/10\n",
      "\u001b[1m1875/1875\u001b[0m \u001b[32m━━━━━━━━━━━━━━━━━━━━\u001b[0m\u001b[37m\u001b[0m \u001b[1m4s\u001b[0m 2ms/step - loss: 0.3329 - sparse_categorical_accuracy: 0.8772\n",
      "Epoch 5/10\n",
      "\u001b[1m1875/1875\u001b[0m \u001b[32m━━━━━━━━━━━━━━━━━━━━\u001b[0m\u001b[37m\u001b[0m \u001b[1m3s\u001b[0m 2ms/step - loss: 0.3116 - sparse_categorical_accuracy: 0.8848\n",
      "Epoch 6/10\n",
      "\u001b[1m1875/1875\u001b[0m \u001b[32m━━━━━━━━━━━━━━━━━━━━\u001b[0m\u001b[37m\u001b[0m \u001b[1m3s\u001b[0m 2ms/step - loss: 0.3026 - sparse_categorical_accuracy: 0.8882\n",
      "Epoch 7/10\n",
      "\u001b[1m1875/1875\u001b[0m \u001b[32m━━━━━━━━━━━━━━━━━━━━\u001b[0m\u001b[37m\u001b[0m \u001b[1m3s\u001b[0m 2ms/step - loss: 0.2827 - sparse_categorical_accuracy: 0.8951\n",
      "Epoch 8/10\n",
      "\u001b[1m1875/1875\u001b[0m \u001b[32m━━━━━━━━━━━━━━━━━━━━\u001b[0m\u001b[37m\u001b[0m \u001b[1m3s\u001b[0m 2ms/step - loss: 0.2747 - sparse_categorical_accuracy: 0.8968\n",
      "Epoch 9/10\n",
      "\u001b[1m1875/1875\u001b[0m \u001b[32m━━━━━━━━━━━━━━━━━━━━\u001b[0m\u001b[37m\u001b[0m \u001b[1m3s\u001b[0m 2ms/step - loss: 0.2663 - sparse_categorical_accuracy: 0.9008\n",
      "Epoch 10/10\n",
      "\u001b[1m1875/1875\u001b[0m \u001b[32m━━━━━━━━━━━━━━━━━━━━\u001b[0m\u001b[37m\u001b[0m \u001b[1m3s\u001b[0m 2ms/step - loss: 0.2561 - sparse_categorical_accuracy: 0.9054\n"
     ]
    },
    {
     "data": {
      "text/plain": [
       "<keras.src.callbacks.history.History at 0x1f22a4f1be0>"
      ]
     },
     "execution_count": 7,
     "metadata": {},
     "output_type": "execute_result"
    }
   ],
   "source": [
    "#ENTRENANDO MODELO\n",
    "model.fit(X_train, y_train, epochs=10)"
   ]
  },
  {
   "cell_type": "code",
   "execution_count": 8,
   "id": "3e476bab",
   "metadata": {},
   "outputs": [
    {
     "name": "stdout",
     "output_type": "stream",
     "text": [
      "\u001b[1m313/313\u001b[0m \u001b[32m━━━━━━━━━━━━━━━━━━━━\u001b[0m\u001b[37m\u001b[0m \u001b[1m0s\u001b[0m 982us/step - loss: 0.3334 - sparse_categorical_accuracy: 0.8810\n"
     ]
    }
   ],
   "source": [
    "#EVALUANDO MODELO\n",
    "test_loss, test_accuracy = model.evaluate(X_test, y_test)"
   ]
  },
  {
   "cell_type": "markdown",
   "id": "e7b6fcb5",
   "metadata": {},
   "source": [
    "# Diferencia entre tipos de redes neuronales\n",
    "\n",
    "Las redes neuronales sencillas, también conocidas como redes neuronales feedforward o completamente conectadas, y las redes neuronales convolucionales (CNNs), son dos tipos de arquitecturas de redes neuronales que se utilizan en diferentes contextos y para distintos tipos de tareas. \n",
    "\n",
    "Las diferencias clave entre ambas son:\n",
    "\n",
    "### Redes Neuronales Sencillas (Dense o Fully Connected Layers -> feedforward)\n",
    "\n",
    "1. Estructura:\n",
    "\n",
    "    * Una red neuronal sencilla está compuesta por capas completamente conectadas (fully connected layers), donde cada neurona en una capa está conectada a todas las neuronas de la siguiente capa. En Keras, estas capas se definen con Dense().\n",
    "\n",
    "2. Operación:\n",
    "\n",
    "    * Cada neurona realiza una combinación lineal de sus entradas, aplica una función de activación y pasa el resultado a la siguiente capa.\n",
    "\n",
    "3. Uso Principal:\n",
    "\n",
    "    * Se usan generalmente para problemas donde los datos de entrada tienen una estructura plana (es decir, no tienen relaciones espaciales específicas), como datos tabulares.\n",
    "\n",
    "    * Son muy comunes en problemas de clasificación y regresión donde los datos no tienen una estructura espacial o temporal significativa.\n",
    "\n",
    "4. Limitaciones:\n",
    "\n",
    "    * No capturan bien las dependencias espaciales locales en los datos, como en imágenes, donde la relación entre los píxeles cercanos es importante.\n",
    "\n",
    "    * No son escalables para entradas de alta dimensión, ya que el número de parámetros puede crecer muy rápidamente.\n",
    "    \n",
    "    \n",
    "### Redes Neuronales Convolucionales (Conv2D -> CNNs)\n",
    "\n",
    "1. Estructura:\n",
    "\n",
    "    * Una red neuronal convolucional utiliza capas convolucionales, donde cada neurona solo está conectada a una pequeña región de la capa anterior. En Keras, estas capas se definen con Conv2D().\n",
    "\n",
    "    * Además de las capas convolucionales, las CNNs suelen tener capas de agrupamiento (pooling) y capas completamente conectadas al final.\n",
    "\n",
    "2. Operación:\n",
    "\n",
    "    * Las capas convolucionales aplican filtros (kernels) que recorren la imagen (o la entrada con estructura espacial), realizando operaciones de convolución que permiten detectar características locales como bordes, texturas, etc.\n",
    "\n",
    "    * Después de las operaciones de convolución, generalmente se aplican funciones de activación y capas de agrupamiento (pooling) que reducen la dimensionalidad.\n",
    "\n",
    "3. Uso Principal:\n",
    "\n",
    "    * Son ideales para problemas donde los datos tienen una estructura espacial o temporal significativa, como imágenes, videos, y datos de series temporales.\n",
    "\n",
    "    * Son muy efectivas para tareas de visión por computadora como clasificación de imágenes, detección de objetos, y segmentación de imágenes.\n",
    "\n",
    "4. Ventajas:\n",
    "\n",
    "    * Capturan las relaciones espaciales locales en los datos.\n",
    "    * Tienen menos parámetros que una red completamente conectada equivalente debido a la compartición de pesos, lo que las hace más eficientes y menos propensas al sobreajuste."
   ]
  },
  {
   "attachments": {
    "imagen_2024-06-03_155803895.png": {
     "image/png": "[encoded data removed]"
    }
   },
   "cell_type": "markdown",
   "id": "ee05017a",
   "metadata": {},
   "source": [
    "![imagen_2024-06-03_155803895.png](attachment:imagen_2024-06-03_155803895.png)"
   ]
  },
  {
   "cell_type": "markdown",
   "id": "24ed64f0",
   "metadata": {},
   "source": [
    "En resumen, mientras que las redes neuronales sencillas son versátiles y pueden aplicarse a una amplia variedad de problemas, las redes neuronales convolucionales son especializadas y particularmente efectivas para tareas que involucran datos con una estructura espacial significativa, como las imágenes."
   ]
  },
  {
   "cell_type": "markdown",
   "id": "66d07a89",
   "metadata": {},
   "source": [
    "### Que es la convolucion?\n",
    "\n",
    "https://www.codificandobits.com/blog/convolucion-redes-convolucionales/\n"
   ]
  },
  {
   "cell_type": "markdown",
   "id": "6dd98f35",
   "metadata": {},
   "source": [
    "# Maquina de red neuronal  Convolucional (CNNs)\n",
    "(sequential - Conv2D)"
   ]
  },
  {
   "cell_type": "code",
   "execution_count": 35,
   "id": "c271a00b",
   "metadata": {},
   "outputs": [
    {
     "name": "stdout",
     "output_type": "stream",
     "text": [
      "(60000, 28, 28)\n",
      "(10000, 28, 28)\n"
     ]
    }
   ],
   "source": [
    "import tensorflow as tf\n",
    "import matplotlib.pyplot as plt\n",
    "\n",
    "\n",
    "\n",
    "#Cargar Set de Datos\n",
    "(X_train, y_train), (X_test, y_test) = fashion_mnist.load_data()\n",
    "\n",
    "#Normalizacion de Imagenes\n",
    "X_train = X_train / 255.0\n",
    "X_test = X_test / 255.0\n",
    "\n",
    "#Reformar Datos\n",
    "#X_train = X_train.reshape(-1, 28*28)\n",
    "print(X_train.shape)\n",
    "\n",
    "#X_test = X_test.reshape(-1, 28*28)\n",
    "print(X_test.shape)\n",
    "\n",
    "#CREANDO RED NEURONAL CONVOLUCIONAL\n",
    "model = tf.keras.models.Sequential()\n",
    "\n",
    "#Primera Capa\n",
    "model.add(tf.keras.layers.Conv2D(filters=28, kernel_size=3, padding=\"same\",\\\n",
    "                                 activation=\"relu\", input_shape=[28,28,1]))\n",
    "\n",
    "\n"
   ]
  },
  {
   "cell_type": "code",
   "execution_count": 36,
   "id": "6d02ae54",
   "metadata": {},
   "outputs": [],
   "source": [
    "#Segunda Capa\n",
    "\n",
    "#se añaden una capa convolucional seguida de una capa de agrupamiento (pooling) a un modelo\n",
    "model.add(tf.keras.layers.Conv2D(filters=28, kernel_size=3, padding=\"same\", activation=\"relu\"))\n",
    "model.add(tf.keras.layers.MaxPool2D(pool_size=2, strides=2, padding='valid'))\n"
   ]
  },
  {
   "cell_type": "markdown",
   "id": "10f46d7b",
   "metadata": {},
   "source": [
    "## Conv2D:\n",
    "\n",
    "Esta capa aplica una operación de convolución 2D a la entrada, lo que permite a la red aprender filtros que pueden detectar características locales como bordes, texturas, y otros patrones espaciales en una imagen.\n",
    "\n",
    "* Parámetros:\n",
    "\n",
    "    * filters=28: Esta especificación indica que la capa convolucional aplicará 28 filtros distintos a la entrada. Cada filtro aprende a detectar diferentes características.\n",
    "    * kernel_size=3: El tamaño del filtro (o kernel) es de 3x3 píxeles. Esto significa que cada filtro recorrerá la imagen en ventanas de 3x3 píxeles.\n",
    "    * padding=\"same\": Este parámetro indica que se debe aplicar un padding de forma que la salida tenga el mismo tamaño espacial que la entrada. Se agregan ceros alrededor de los bordes de la entrada cuando sea necesario.\n",
    "    * activation=\"relu\": Esta especificación indica que la función de activación ReLU (Rectified Linear Unit) se aplicará después de la convolución. \n",
    "\n",
    "### MaxPool2D:\n",
    "\n",
    "Esta capa aplica una operación de agrupamiento máximo (max pooling) a la salida de la capa convolucional. Max pooling reduce las dimensiones espaciales (ancho y alto) de la entrada, manteniendo solo el valor máximo de cada ventana de pooling.\n",
    "\n",
    "* Parámetros:\n",
    "\n",
    "    * pool_size=2: El tamaño de la ventana de pooling es de 2x2 píxeles. Esto significa que se considerarán bloques de 2x2 píxeles de la entrada y se seleccionará el valor máximo de cada bloque.\n",
    "    * strides=2: Este parámetro especifica que la ventana de pooling se moverá 2 píxeles a la vez tanto en la dirección horizontal como vertical. Esto asegura que las ventanas no se solapen.\n",
    "    * padding='valid': Este parámetro indica que no se aplicará padding a la entrada antes de la operación de pooling, lo que puede resultar en una reducción en el tamaño espacial de la salida.\n",
    "\n",
    "* Propósito:\n",
    "\n",
    "    * La capa de max pooling (MaxPool2D) reduce la dimensionalidad espacial de la salida de la capa convolucional, lo que ayuda a disminuir el número de parámetros y la carga computacional en las capas posteriores.\n",
    "    * Max pooling también introduce una forma de invariancia a pequeñas traslaciones y distorsiones en la imagen, haciendo que la red sea más robusta a cambios en la posición y orientación de las características detectadas.\n",
    "    * Al reducir las dimensiones espaciales, la capa de pooling también ayuda a consolidar las características más importantes detectadas por los filtros de la capa convolucional, permitiendo una representación más compacta de la información.\n",
    "\n",
    "### Resumen:\n",
    "Conv2D: Extrae características locales de la imagen mediante la aplicación de múltiples filtros de convolución.\n",
    "MaxPool2D: Reduce las dimensiones espaciales de la imagen y consolida las características más importantes, ayudando a la red a ser más eficiente y robusta."
   ]
  },
  {
   "cell_type": "code",
   "execution_count": 37,
   "id": "1ccf7cfc",
   "metadata": {},
   "outputs": [],
   "source": [
    "#Tercera Capa\n",
    "model.add(tf.keras.layers.Conv2D(filters=56, kernel_size=3, padding=\"same\", activation=\"relu\"))\n",
    "model.add(tf.keras.layers.MaxPool2D(pool_size=2, strides=2, padding='valid'))\n",
    "\n",
    "#Cuarta Capa\n",
    "model.add(tf.keras.layers.Conv2D(filters=56, kernel_size=3, padding=\"same\", activation=\"relu\"))\n",
    "model.add(tf.keras.layers.MaxPool2D(pool_size=2, strides=2, padding='valid'))\n",
    "\n",
    "#Aplanado\n",
    "model.add(tf.keras.layers.Flatten())\n",
    "\n"
   ]
  },
  {
   "cell_type": "markdown",
   "id": "e3bcb0e6",
   "metadata": {},
   "source": [
    "### Flatten()\n",
    "La capa Flatten transforma una entrada multidimensional en un vector unidimensional.\n",
    "\n",
    "* Función Principal: La capa Flatten transforma una entrada multidimensional en un vector unidimensional.\n",
    "\n",
    "* Propósito: Facilitar la conexión entre las capas convolucionales/agrupamiento y las capas densas en una red neuronal.\n",
    "\n",
    "* Uso Típico: Se utiliza justo antes de las capas densas en redes neuronales convolucionales para aplanar la salida de las capas convolucionales y de agrupamiento.\n",
    "\n",
    "Esta capa es esencial en arquitecturas de redes neuronales convolucionales porque permite la transición de la extracción de características (realizada por las capas convolucionales) a la interpretación y clasificación final (realizada por las capas densas).\n",
    "\n",
    "** Ejemplo Práctico:\n",
    "\n",
    "Supongamos que la salida de la última capa convolucional es de tamaño (batch_size, 7, 7, 32). Después de aplicar Flatten, la forma de la salida será (batch_size, 7 * 7 * 32), es decir, (batch_size, 1568).\n",
    "Esta salida aplanada (vector) puede entonces ser alimentada a una o más capas densas para la clasificación, regresión u otras tareas de predicción.\n"
   ]
  },
  {
   "cell_type": "code",
   "execution_count": 38,
   "id": "e9f2660f",
   "metadata": {},
   "outputs": [],
   "source": [
    "#Primera Capa Dense\n",
    "model.add(tf.keras.layers.Dense(units=28*3, activation='relu'))\n",
    "\n",
    "#Segunda Capa Dense (Output)\n",
    "model.add(tf.keras.layers.Dense(units=10, activation='softmax'))\n",
    "\n",
    "\n",
    "#Compilado\n",
    "model.compile(optimizer=\"Adam\", loss=\"sparse_categorical_crossentropy\", \\\n",
    "              metrics=[\"sparse_categorical_accuracy\"])\n"
   ]
  },
  {
   "cell_type": "code",
   "execution_count": 39,
   "id": "d4c18f4b",
   "metadata": {},
   "outputs": [
    {
     "name": "stdout",
     "output_type": "stream",
     "text": [
      "Epoch 1/15\n",
      "\u001b[1m1875/1875\u001b[0m \u001b[32m━━━━━━━━━━━━━━━━━━━━\u001b[0m\u001b[37m\u001b[0m \u001b[1m26s\u001b[0m 13ms/step - loss: 0.6355 - sparse_categorical_accuracy: 0.7705\n",
      "Epoch 2/15\n",
      "\u001b[1m1875/1875\u001b[0m \u001b[32m━━━━━━━━━━━━━━━━━━━━\u001b[0m\u001b[37m\u001b[0m \u001b[1m24s\u001b[0m 13ms/step - loss: 0.2778 - sparse_categorical_accuracy: 0.9001\n",
      "Epoch 3/15\n",
      "\u001b[1m1875/1875\u001b[0m \u001b[32m━━━━━━━━━━━━━━━━━━━━\u001b[0m\u001b[37m\u001b[0m \u001b[1m24s\u001b[0m 13ms/step - loss: 0.2308 - sparse_categorical_accuracy: 0.9158\n",
      "Epoch 4/15\n",
      "\u001b[1m1875/1875\u001b[0m \u001b[32m━━━━━━━━━━━━━━━━━━━━\u001b[0m\u001b[37m\u001b[0m \u001b[1m24s\u001b[0m 13ms/step - loss: 0.2010 - sparse_categorical_accuracy: 0.9266\n",
      "Epoch 5/15\n",
      "\u001b[1m1875/1875\u001b[0m \u001b[32m━━━━━━━━━━━━━━━━━━━━\u001b[0m\u001b[37m\u001b[0m \u001b[1m24s\u001b[0m 13ms/step - loss: 0.1758 - sparse_categorical_accuracy: 0.9359\n",
      "Epoch 6/15\n",
      "\u001b[1m1875/1875\u001b[0m \u001b[32m━━━━━━━━━━━━━━━━━━━━\u001b[0m\u001b[37m\u001b[0m \u001b[1m24s\u001b[0m 13ms/step - loss: 0.1583 - sparse_categorical_accuracy: 0.9417\n",
      "Epoch 7/15\n",
      "\u001b[1m1875/1875\u001b[0m \u001b[32m━━━━━━━━━━━━━━━━━━━━\u001b[0m\u001b[37m\u001b[0m \u001b[1m24s\u001b[0m 13ms/step - loss: 0.1378 - sparse_categorical_accuracy: 0.9489\n",
      "Epoch 8/15\n",
      "\u001b[1m1875/1875\u001b[0m \u001b[32m━━━━━━━━━━━━━━━━━━━━\u001b[0m\u001b[37m\u001b[0m \u001b[1m24s\u001b[0m 13ms/step - loss: 0.1245 - sparse_categorical_accuracy: 0.9531\n",
      "Epoch 9/15\n",
      "\u001b[1m1875/1875\u001b[0m \u001b[32m━━━━━━━━━━━━━━━━━━━━\u001b[0m\u001b[37m\u001b[0m \u001b[1m24s\u001b[0m 13ms/step - loss: 0.1149 - sparse_categorical_accuracy: 0.9577\n",
      "Epoch 10/15\n",
      "\u001b[1m1875/1875\u001b[0m \u001b[32m━━━━━━━━━━━━━━━━━━━━\u001b[0m\u001b[37m\u001b[0m \u001b[1m24s\u001b[0m 13ms/step - loss: 0.1003 - sparse_categorical_accuracy: 0.9636\n",
      "Epoch 11/15\n",
      "\u001b[1m1875/1875\u001b[0m \u001b[32m━━━━━━━━━━━━━━━━━━━━\u001b[0m\u001b[37m\u001b[0m \u001b[1m24s\u001b[0m 13ms/step - loss: 0.0901 - sparse_categorical_accuracy: 0.9665\n",
      "Epoch 12/15\n",
      "\u001b[1m1875/1875\u001b[0m \u001b[32m━━━━━━━━━━━━━━━━━━━━\u001b[0m\u001b[37m\u001b[0m \u001b[1m24s\u001b[0m 13ms/step - loss: 0.0821 - sparse_categorical_accuracy: 0.9692\n",
      "Epoch 13/15\n",
      "\u001b[1m1875/1875\u001b[0m \u001b[32m━━━━━━━━━━━━━━━━━━━━\u001b[0m\u001b[37m\u001b[0m \u001b[1m24s\u001b[0m 13ms/step - loss: 0.0765 - sparse_categorical_accuracy: 0.9709\n",
      "Epoch 14/15\n",
      "\u001b[1m1875/1875\u001b[0m \u001b[32m━━━━━━━━━━━━━━━━━━━━\u001b[0m\u001b[37m\u001b[0m \u001b[1m26s\u001b[0m 14ms/step - loss: 0.0689 - sparse_categorical_accuracy: 0.9738\n",
      "Epoch 15/15\n",
      "\u001b[1m1875/1875\u001b[0m \u001b[32m━━━━━━━━━━━━━━━━━━━━\u001b[0m\u001b[37m\u001b[0m \u001b[1m25s\u001b[0m 13ms/step - loss: 0.0610 - sparse_categorical_accuracy: 0.9767\n"
     ]
    },
    {
     "data": {
      "text/plain": [
       "<keras.src.callbacks.history.History at 0x1f22d12ff70>"
      ]
     },
     "execution_count": 39,
     "metadata": {},
     "output_type": "execute_result"
    }
   ],
   "source": [
    "#Entrenando\n",
    "model.fit(X_train, y_train, epochs=15)\n"
   ]
  },
  {
   "cell_type": "code",
   "execution_count": 40,
   "id": "6ebb5676",
   "metadata": {},
   "outputs": [
    {
     "name": "stdout",
     "output_type": "stream",
     "text": [
      "\u001b[1m313/313\u001b[0m \u001b[32m━━━━━━━━━━━━━━━━━━━━\u001b[0m\u001b[37m\u001b[0m \u001b[1m2s\u001b[0m 5ms/step - loss: 0.3312 - sparse_categorical_accuracy: 0.9174\n"
     ]
    }
   ],
   "source": [
    "#Evaluando Modelo\n",
    "test_loss, test_accuracy = model.evaluate(X_test, y_test)"
   ]
  },
  {
   "cell_type": "markdown",
   "id": "e89d1c48",
   "metadata": {},
   "source": [
    "### conclusión\n",
    "\n",
    "* Maquina de red neuronal  sencilla (feedforward) \n",
    "    * 982us/step - loss: 0.3334 - sparse_categorical_accuracy: 0.8810\n",
    "\n",
    "* Maquina de red neuronal Convolucional (CNNs)\n",
    "    * 5ms/step - loss: 0.3312 - sparse_categorical_accuracy: 0.9174\n"
   ]
  }
 ],
 "metadata": {
  "kernelspec": {
   "display_name": "Python 3 (ipykernel)",
   "language": "python",
   "name": "python3"
  },
  "language_info": {
   "codemirror_mode": {
    "name": "ipython",
    "version": 3
   },
   "file_extension": ".py",
   "mimetype": "text/x-python",
   "name": "python",
   "nbconvert_exporter": "python",
   "pygments_lexer": "ipython3",
   "version": "3.9.13"
  }
 },
 "nbformat": 4,
 "nbformat_minor": 5
}
