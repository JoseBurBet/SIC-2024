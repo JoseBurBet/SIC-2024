{
 "cells": [
  {
   "cell_type": "markdown",
   "id": "f34adb44",
   "metadata": {},
   "source": [
    "# Coding and Programming\n",
    "\n",
    "## Capítulo 1\n",
    "\n",
    "### Conceptos básicos de programación e iniciación con python\n",
    "\n",
    "\n",
    "- **Unidad 1**: Programación secuencial\n",
    "- **Unidad 2**: Planificación de la programación\n",
    "- **Unidad 3**: Fundamentos de los tipos de datos numéricos y operaciones aritméticas\n",
    "- **Unidad 4**: Variables y entradas (Inputs)\n",
    "- **Unidad 5**: Operaciones lógicas y de comparación\n",
    "- **Unidad 6**: Enunciado condicional-1: Condiciones y toma de decisiones\n",
    "- **Unidad 7**: Enunciado condicional-2: Tomar decisiones en dos direcciones y aplicar enunciados condicionales\n",
    "- **Unidad 8**: Bucle-1\n",
    "- **Unidad 9**: Bucle-2\n",
    "\n",
    "# Quiz 1"
   ]
  },
  {
   "cell_type": "markdown",
   "id": "2e42031a",
   "metadata": {},
   "source": [
    "___"
   ]
  },
  {
   "cell_type": "markdown",
   "id": "ac1e9b02",
   "metadata": {},
   "source": [
    "## Q 01-01\n",
    "\n",
    "El código que imprime los valores numéricos del 1 al 3 utilizando la función `print()` es `print(1+2+3)`.\n",
    "\n",
    "Con referencia a este código, imprima los valores de 1 a 5 de forma similar.\n",
    "\n",
    "**Respuesta:**"
   ]
  },
  {
   "cell_type": "code",
   "execution_count": 2,
   "id": "d20f42d3",
   "metadata": {},
   "outputs": [
    {
     "name": "stdout",
     "output_type": "stream",
     "text": [
      "1,2,3,4,5\n",
      "15\n"
     ]
    }
   ],
   "source": [
    "print(\"1,2,3,4,5\")\n",
    "print(1+2+3+4+5)"
   ]
  },
  {
   "cell_type": "markdown",
   "id": "26e1df49",
   "metadata": {},
   "source": [
    "___"
   ]
  },
  {
   "cell_type": "markdown",
   "id": "87a3a925",
   "metadata": {},
   "source": [
    "## Q 02-01\n",
    "\n",
    "Un programa que calcula la suma de números impares entre enteros entre 1 y 100 e imprime el resultado.\n",
    "\n",
    "Completa los espacios en blanco de la segunda figura del siguiente diagrama de flujo."
   ]
  },
  {
   "attachments": {
    "sic_cp_quiz1_p02-01.png": {
     "image/png": "[encoded data removed]"
    }
   },
   "cell_type": "markdown",
   "id": "62678495",
   "metadata": {},
   "source": [
    "![sic_cp_quiz1_p02-01.png](attachment:sic_cp_quiz1_p02-01.png)"
   ]
  },
  {
   "cell_type": "markdown",
   "id": "203a055b",
   "metadata": {},
   "source": [
    "n<-1\n",
    "s<-0\n",
    "n<-n+2\n",
    "s<-s+n\n",
    "n<100"
   ]
  },
  {
   "cell_type": "markdown",
   "id": "8c115f28",
   "metadata": {},
   "source": [
    "## Q 02-02\n",
    "\n",
    "Un programa que reciba un número entero positivo del usuario y en indique si es un número par o impar.\n",
    "\n",
    "Complete el pseudocódigo apropiado para **___**."
   ]
  },
  {
   "cell_type": "code",
   "execution_count": 1,
   "id": "f1976de6",
   "metadata": {},
   "outputs": [
    {
     "name": "stdout",
     "output_type": "stream",
     "text": [
      "Ingrese un entero:\n",
      "9\n",
      "Es impar\n"
     ]
    }
   ],
   "source": [
    "\n",
    "print(\"Ingrese un entero:\")\n",
    "n = int(input())\n",
    "\n",
    "if n%2 == 0:\n",
    "    print(\"Es par\")\n",
    "else:\n",
    "    print(\"Es impar\")\n"
   ]
  },
  {
   "cell_type": "markdown",
   "id": "7410bc11",
   "metadata": {},
   "source": [
    "___"
   ]
  },
  {
   "cell_type": "markdown",
   "id": "410f8980",
   "metadata": {},
   "source": [
    "## Q 03-01\n",
    "\n",
    "El Código para imprimir la siguiente salida decorativa.\n",
    "\n",
    "`***********************************`\n",
    "\n",
    "`###################################`\n",
    "\n",
    "\n",
    "Utilice sólo un carácter '*' en la primera línea y use el operador * y número. \n",
    "\n",
    "En la segunda línea, utilice sólo un carácter '#' y un espacio, y utilice el operador * y el número.\n",
    "\n",
    "**Guía de codificación:**\n",
    "\n",
    "- En el caso de la primera línea, imprima de la misma manera que '*' * número n.\n",
    "\n",
    "- La segunda línea también utiliza el operador *.\n",
    "\n",
    "\n",
    "**Respuesta:**"
   ]
  },
  {
   "cell_type": "code",
   "execution_count": 3,
   "id": "442f9d6f",
   "metadata": {},
   "outputs": [
    {
     "name": "stdout",
     "output_type": "stream",
     "text": [
      "***********************************\n",
      "###################################\n"
     ]
    }
   ],
   "source": [
    "print(\"*\"*35)\n",
    "print(\"#\"*35)"
   ]
  },
  {
   "cell_type": "markdown",
   "id": "ba019f33",
   "metadata": {},
   "source": [
    "___"
   ]
  },
  {
   "cell_type": "markdown",
   "id": "d4b76da3",
   "metadata": {},
   "source": [
    "## Q 04-01\n",
    "\n",
    "Escribe y guarda tu nombre y dirección en las variables nombre y dirección, respectivamente.\n",
    "\n",
    "Escribe un código que lo imprima en la pantalla de la siguiente manera: \"hola soy NOMBRE y vivo en DIRECCION\"\n",
    "\n",
    "**Guía de codificación:** Utiliza una variable como `nombre = 'Mi nombre'`.\n",
    "\n",
    "**Respuesta:**"
   ]
  },
  {
   "cell_type": "code",
   "execution_count": 4,
   "id": "a939a467",
   "metadata": {},
   "outputs": [
    {
     "name": "stdout",
     "output_type": "stream",
     "text": [
      "hola soy jose y vivo en colombia\n",
      "hola soy jose y vivo en colombia\n",
      "hola soy jose y vivo en colombia\n"
     ]
    }
   ],
   "source": [
    "nombre = \"jose\"\n",
    "direccion = \"colombia\"\n",
    "print(\"hola soy\",nombre , \"y vivo en\",direccion)\n",
    "print(\"hola soy {} y vivo en {}\".format(nombre,direccion))\n",
    "print(f\"hola soy {nombre} y vivo en {direccion}\")"
   ]
  },
  {
   "cell_type": "markdown",
   "id": "aa90491d",
   "metadata": {},
   "source": [
    "___"
   ]
  },
  {
   "cell_type": "markdown",
   "id": "e98e5186",
   "metadata": {},
   "source": [
    "## Q 05-01\n",
    "\n",
    "Espere el resultado del siguiente código y escríbalo."
   ]
  },
  {
   "cell_type": "markdown",
   "id": "6d34caea",
   "metadata": {},
   "source": [
    "```\n",
    "x = 1\n",
    "y = 0\n",
    "print(x and y)\n",
    "print(x or y)\n",
    "print(not x)\n",
    "print(not y)\n",
    "```"
   ]
  },
  {
   "cell_type": "code",
   "execution_count": 5,
   "id": "056b4d7a",
   "metadata": {},
   "outputs": [
    {
     "name": "stdout",
     "output_type": "stream",
     "text": [
      "0\n",
      "1\n",
      "False\n",
      "True\n"
     ]
    }
   ],
   "source": [
    "'''\n",
    "0\n",
    "1\n",
    "0\n",
    "1\n",
    "'''\n",
    "x = 1\n",
    "y = 0\n",
    "print(x and y)\n",
    "print(x or y)\n",
    "print(not x)\n",
    "print(not y)\n"
   ]
  },
  {
   "cell_type": "markdown",
   "id": "1c76ac19",
   "metadata": {},
   "source": [
    "___"
   ]
  },
  {
   "cell_type": "markdown",
   "id": "58ce5b20",
   "metadata": {},
   "source": [
    "## Q 06-01\n",
    "\n",
    "Escriba un programa que tome dos enteros aleatorios como entrada y los enumere de menor a mayor.\n",
    "\n",
    "(Restricción: dos enteros distintos, es decir, que no sean el mismo número)\n",
    "\n",
    "**Pauta de codificación:**\n",
    "- Reciba la entrada del usuario con la función de entrada y conviértala en un número entero usando la función `int`.\n",
    "- Luego, use una declaración `if` para comparar e imprimir los dos valores.\n",
    "\n",
    "**Respuesta:**"
   ]
  },
  {
   "cell_type": "code",
   "execution_count": 6,
   "id": "b8cd88f5",
   "metadata": {},
   "outputs": [
    {
     "name": "stdout",
     "output_type": "stream",
     "text": [
      "ingrese el primer numero: 8\n",
      "ingrese el segundo numero: 5\n",
      "5 ,8\n"
     ]
    }
   ],
   "source": [
    "numero1= int(input(\"ingrese el primer numero: \"))\n",
    "numero2= int(input(\"ingrese el segundo numero: \"))\n",
    "menor=0\n",
    "mayor=0\n",
    "\n",
    "if numero1 > numero2:\n",
    "    mayor = numero1\n",
    "    menor = numero2\n",
    "elif numero1 < numero2:\n",
    "    mayor= numero2\n",
    "    menor = numero1\n",
    "else:\n",
    "    print(\"los numeros son iguales\")\n",
    "\n",
    "print(f\"{menor} ,{mayor}\")\n",
    "\n",
    "\n"
   ]
  },
  {
   "cell_type": "markdown",
   "id": "55e7a173",
   "metadata": {},
   "source": [
    "___"
   ]
  },
  {
   "cell_type": "markdown",
   "id": "6abcf432",
   "metadata": {},
   "source": [
    "## Q 07-01\n",
    "\n",
    "Escriba un programa que realice las siguientes funciones utilizando una expresión condicional compuesta de una sentencia `if`.\n",
    "\n",
    "**Guía de codificación:**\n",
    "- Escriba un código que se ejecute de forma diferente dependiendo de si la respuesta a la primera pregunta es 0 o 1.\n"
   ]
  },
  {
   "cell_type": "markdown",
   "id": "f083e248",
   "metadata": {},
   "source": [
    "¿Eres un adulto? (1 si es mayor de edad, 0 si es menor de edad): 1\n",
    "¿Está casado? (1 si es casado, 0 si es soltero): 1\n",
    "Usted es un adulto que está casado.\n",
    "\n",
    "Las tres salidas posibles son:\n",
    "- Usted es un adulto que está casado.\n",
    "- Usted es un adulto que está soltero.\n",
    "- Usted es menor de edad.\n",
    "\n",
    "**Respuesta:**"
   ]
  },
  {
   "cell_type": "code",
   "execution_count": 7,
   "id": "a177b834",
   "metadata": {},
   "outputs": [
    {
     "name": "stdout",
     "output_type": "stream",
     "text": [
      "eres un adulto?1\n",
      "esta casado?1\n",
      "Usted es un adulto que está casado.\n"
     ]
    }
   ],
   "source": [
    "r1=int(input(\"eres un adulto?\"))\n",
    "r2=int(input(\"esta casado?\"))\n",
    "\n",
    "if r1==1 and r2==1:\n",
    "    print(\"Usted es un adulto que está casado.\")\n",
    "elif r1==1 and r2==0:\n",
    "    print(\"Usted es un adulto que está soltero.\")  \n",
    "else:\n",
    "    print(\"Usted es menor de edad.\")"
   ]
  },
  {
   "cell_type": "markdown",
   "id": "e3e514a9",
   "metadata": {},
   "source": [
    "___"
   ]
  },
  {
   "cell_type": "markdown",
   "id": "59dd267b",
   "metadata": {},
   "source": [
    "## Q 08-01\n",
    "\n",
    "Entre los números naturales positivos distintos del 1, un número que no es primo se llama número compuesto. Escribe los números primos y compuestos del 2 al 12 de la siguiente manera.\n",
    "\n",
    "**Pauta de codificación:**\n",
    "- use la instrucción `for` para resolver este problema.\n",
    "- Cuando se utiliza una instrucción `for` anidada, se debe usar una expresión para determinar un número primo en el lazo `for` interno."
   ]
  },
  {
   "cell_type": "markdown",
   "id": "3f51863d",
   "metadata": {},
   "source": [
    "```\n",
    "2 : Primo\n",
    "3 : Primo\n",
    "4 : Compuesto\n",
    "5 : Primo\n",
    "6 : Compuesto\n",
    "7 : Primo\n",
    "8 : Compuesto\n",
    "9 : Compuesto\n",
    "10 : Compuesto\n",
    "11 : Primo\n",
    "12 : Compuesto\n",
    "```"
   ]
  },
  {
   "cell_type": "code",
   "execution_count": 12,
   "id": "d02a3698",
   "metadata": {},
   "outputs": [
    {
     "name": "stdout",
     "output_type": "stream",
     "text": [
      "[2, 3, 4, 5, 6, 7, 8, 9, 10, 11, 12]\n",
      "2 / 1\n",
      "0\n",
      "numero de ceros:  1\n",
      "2 / 2\n",
      "0\n",
      "numero de ceros:  2\n",
      "2 es un numero primo\n",
      "\n",
      "3 / 1\n",
      "0\n",
      "numero de ceros:  1\n",
      "3 / 2\n",
      "1\n",
      "numero de ceros:  1\n",
      "3 / 3\n",
      "0\n",
      "numero de ceros:  2\n",
      "3 es un numero primo\n",
      "\n",
      "4 / 1\n",
      "0\n",
      "numero de ceros:  1\n",
      "4 / 2\n",
      "0\n",
      "numero de ceros:  2\n",
      "4 / 3\n",
      "1\n",
      "numero de ceros:  2\n",
      "4 / 4\n",
      "0\n",
      "numero de ceros:  3\n",
      "4 es un numero compuesto\n",
      "\n",
      "5 / 1\n",
      "0\n",
      "numero de ceros:  1\n",
      "5 / 2\n",
      "1\n",
      "numero de ceros:  1\n",
      "5 / 3\n",
      "2\n",
      "numero de ceros:  1\n",
      "5 / 4\n",
      "1\n",
      "numero de ceros:  1\n",
      "5 / 5\n",
      "0\n",
      "numero de ceros:  2\n",
      "5 es un numero primo\n",
      "\n",
      "6 / 1\n",
      "0\n",
      "numero de ceros:  1\n",
      "6 / 2\n",
      "0\n",
      "numero de ceros:  2\n",
      "6 / 3\n",
      "0\n",
      "numero de ceros:  3\n",
      "6 / 4\n",
      "2\n",
      "numero de ceros:  3\n",
      "6 / 5\n",
      "1\n",
      "numero de ceros:  3\n",
      "6 / 6\n",
      "0\n",
      "numero de ceros:  4\n",
      "6 es un numero compuesto\n",
      "\n",
      "7 / 1\n",
      "0\n",
      "numero de ceros:  1\n",
      "7 / 2\n",
      "1\n",
      "numero de ceros:  1\n",
      "7 / 3\n",
      "1\n",
      "numero de ceros:  1\n",
      "7 / 4\n",
      "3\n",
      "numero de ceros:  1\n",
      "7 / 5\n",
      "2\n",
      "numero de ceros:  1\n",
      "7 / 6\n",
      "1\n",
      "numero de ceros:  1\n",
      "7 / 7\n",
      "0\n",
      "numero de ceros:  2\n",
      "7 es un numero primo\n",
      "\n",
      "8 / 1\n",
      "0\n",
      "numero de ceros:  1\n",
      "8 / 2\n",
      "0\n",
      "numero de ceros:  2\n",
      "8 / 3\n",
      "2\n",
      "numero de ceros:  2\n",
      "8 / 4\n",
      "0\n",
      "numero de ceros:  3\n",
      "8 / 5\n",
      "3\n",
      "numero de ceros:  3\n",
      "8 / 6\n",
      "2\n",
      "numero de ceros:  3\n",
      "8 / 7\n",
      "1\n",
      "numero de ceros:  3\n",
      "8 / 8\n",
      "0\n",
      "numero de ceros:  4\n",
      "8 es un numero compuesto\n",
      "\n",
      "9 / 1\n",
      "0\n",
      "numero de ceros:  1\n",
      "9 / 2\n",
      "1\n",
      "numero de ceros:  1\n",
      "9 / 3\n",
      "0\n",
      "numero de ceros:  2\n",
      "9 / 4\n",
      "1\n",
      "numero de ceros:  2\n",
      "9 / 5\n",
      "4\n",
      "numero de ceros:  2\n",
      "9 / 6\n",
      "3\n",
      "numero de ceros:  2\n",
      "9 / 7\n",
      "2\n",
      "numero de ceros:  2\n",
      "9 / 8\n",
      "1\n",
      "numero de ceros:  2\n",
      "9 / 9\n",
      "0\n",
      "numero de ceros:  3\n",
      "9 es un numero compuesto\n",
      "\n",
      "10 / 1\n",
      "0\n",
      "numero de ceros:  1\n",
      "10 / 2\n",
      "0\n",
      "numero de ceros:  2\n",
      "10 / 3\n",
      "1\n",
      "numero de ceros:  2\n",
      "10 / 4\n",
      "2\n",
      "numero de ceros:  2\n",
      "10 / 5\n",
      "0\n",
      "numero de ceros:  3\n",
      "10 / 6\n",
      "4\n",
      "numero de ceros:  3\n",
      "10 / 7\n",
      "3\n",
      "numero de ceros:  3\n",
      "10 / 8\n",
      "2\n",
      "numero de ceros:  3\n",
      "10 / 9\n",
      "1\n",
      "numero de ceros:  3\n",
      "10 / 10\n",
      "0\n",
      "numero de ceros:  4\n",
      "10 es un numero compuesto\n",
      "\n",
      "11 / 1\n",
      "0\n",
      "numero de ceros:  1\n",
      "11 / 2\n",
      "1\n",
      "numero de ceros:  1\n",
      "11 / 3\n",
      "2\n",
      "numero de ceros:  1\n",
      "11 / 4\n",
      "3\n",
      "numero de ceros:  1\n",
      "11 / 5\n",
      "1\n",
      "numero de ceros:  1\n",
      "11 / 6\n",
      "5\n",
      "numero de ceros:  1\n",
      "11 / 7\n",
      "4\n",
      "numero de ceros:  1\n",
      "11 / 8\n",
      "3\n",
      "numero de ceros:  1\n",
      "11 / 9\n",
      "2\n",
      "numero de ceros:  1\n",
      "11 / 10\n",
      "1\n",
      "numero de ceros:  1\n",
      "11 / 11\n",
      "0\n",
      "numero de ceros:  2\n",
      "11 es un numero primo\n",
      "\n",
      "12 / 1\n",
      "0\n",
      "numero de ceros:  1\n",
      "12 / 2\n",
      "0\n",
      "numero de ceros:  2\n",
      "12 / 3\n",
      "0\n",
      "numero de ceros:  3\n",
      "12 / 4\n",
      "0\n",
      "numero de ceros:  4\n",
      "12 / 5\n",
      "2\n",
      "numero de ceros:  4\n",
      "12 / 6\n",
      "0\n",
      "numero de ceros:  5\n",
      "12 / 7\n",
      "5\n",
      "numero de ceros:  5\n",
      "12 / 8\n",
      "4\n",
      "numero de ceros:  5\n",
      "12 / 9\n",
      "3\n",
      "numero de ceros:  5\n",
      "12 / 10\n",
      "2\n",
      "numero de ceros:  5\n",
      "12 / 11\n",
      "1\n",
      "numero de ceros:  5\n",
      "12 / 12\n",
      "0\n",
      "numero de ceros:  6\n",
      "12 es un numero compuesto\n",
      "\n"
     ]
    }
   ],
   "source": [
    "print(list(range(2,13,1)))\n",
    "contador_de_ceros=0\n",
    "\n",
    "for contador1 in range(2,13,1):\n",
    "    for contador2 in range(1,contador1+1):\n",
    "        print(\"{} / {}\".format(contador1,contador2))\n",
    "        print(contador1%contador2)\n",
    "        if contador1%contador2==0:\n",
    "            contador_de_ceros+=1\n",
    "        print(\"numero de ceros: \", contador_de_ceros)\n",
    "    if contador_de_ceros>2:\n",
    "        print(contador1, \"es un numero compuesto\")\n",
    "    elif contador_de_ceros==2:\n",
    "        print(contador1, \"es un numero primo\")\n",
    "    contador_de_ceros=0    \n",
    "    print()\n",
    "\n"
   ]
  },
  {
   "cell_type": "markdown",
   "id": "2c5c46fe",
   "metadata": {},
   "source": [
    "___"
   ]
  },
  {
   "cell_type": "markdown",
   "id": "ed8d04c5",
   "metadata": {},
   "source": [
    "## Q 09-01\n",
    "\n",
    "Un número de Armstrong es un número entero de tres dígitos que es igual a la suma de los cubos de cada dígito.\n",
    "\n",
    "Encuentre todos los números de Armstrong entre enteros de tres dígitos e imprímalos de la siguiente manera.\n",
    "\n",
    "\n",
    "**Pauta de codificación:** todos los números del 100 al 999 deben buscarse utilizando la instrucción `for`.\n",
    "\n",
    "**Respuesta:**"
   ]
  },
  {
   "cell_type": "code",
   "execution_count": 13,
   "id": "3fbd7c1b",
   "metadata": {},
   "outputs": [
    {
     "name": "stdout",
     "output_type": "stream",
     "text": [
      "153  es un numero de amstrong\n",
      "370  es un numero de amstrong\n",
      "371  es un numero de amstrong\n",
      "407  es un numero de amstrong\n"
     ]
    }
   ],
   "source": [
    "for numero in range(100,1000,1):\n",
    "  \n",
    "    centenas=(numero%1000-numero%100)//100\n",
    "    decenas=(numero%100-numero%10)//10\n",
    "    unidades=numero%10\n",
    "        \n",
    "    if centenas**3+decenas**3+unidades**3==numero:\n",
    "        print(numero, \" es un numero de amstrong\")\n",
    "    "
   ]
  },
  {
   "cell_type": "markdown",
   "id": "323bbee6",
   "metadata": {},
   "source": []
  },
  {
   "cell_type": "markdown",
   "id": "ed04e881",
   "metadata": {},
   "source": [
    "## Fin"
   ]
  }
 ],
 "metadata": {
  "kernelspec": {
   "display_name": "Python 3 (ipykernel)",
   "language": "python",
   "name": "python3"
  },
  "language_info": {
   "codemirror_mode": {
    "name": "ipython",
    "version": 3
   },
   "file_extension": ".py",
   "mimetype": "text/x-python",
   "name": "python",
   "nbconvert_exporter": "python",
   "pygments_lexer": "ipython3",
   "version": "3.9.13"
  }
 },
 "nbformat": 4,
 "nbformat_minor": 5
}
