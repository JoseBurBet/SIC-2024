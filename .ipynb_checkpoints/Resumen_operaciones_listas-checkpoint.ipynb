{
 "cells": [
  {
   "cell_type": "markdown",
   "id": "de599eeb",
   "metadata": {},
   "source": [
    "# Opciones utilies para trabajar con listas"
   ]
  },
  {
   "cell_type": "code",
   "execution_count": 6,
   "id": "d3500606",
   "metadata": {},
   "outputs": [],
   "source": [
    "lista_compra=[\"arroz\",\"aceite\",\"leche\",\"carne\",\"huevos\",\"pan\"]"
   ]
  },
  {
   "cell_type": "markdown",
   "id": "2dbbd048",
   "metadata": {},
   "source": [
    "# Añadir datos"
   ]
  },
  {
   "cell_type": "code",
   "execution_count": 14,
   "id": "a9014127",
   "metadata": {},
   "outputs": [
    {
     "name": "stdout",
     "output_type": "stream",
     "text": [
      "['arroz', 'aceite', 'leche', 'carne', 'huevos', 'pan']\n",
      "['arroz', 'aceite', 'leche', 'carne', 'huevos', 'pan', 'pasta']\n",
      "['arroz', 'mantequilla', 'aceite', 'leche', 'carne', 'huevos', 'pan', 'pasta']\n"
     ]
    }
   ],
   "source": [
    "# metodo append\n",
    "lista_compra=[\"arroz\",\"aceite\",\"leche\",\"carne\",\"huevos\",\"pan\"]\n",
    "print(lista_compra)\n",
    "lista_compra.append(\"pasta\")#append agrega elementos completos al final de la lista\n",
    "print(lista_compra)\n"
   ]
  },
  {
   "cell_type": "code",
   "execution_count": 9,
   "id": "51596913",
   "metadata": {},
   "outputs": [
    {
     "name": "stdout",
     "output_type": "stream",
     "text": [
      "['arroz', 'aceite', 'leche', 'carne', 'huevos', 'pan']\n",
      "['arroz', 'aceite', 'leche', 'carne', 'huevos', 'pan', 'p', 'a', 's', 't', 'a']\n"
     ]
    }
   ],
   "source": [
    "# metodo extend\n",
    "lista_compra=[\"arroz\",\"aceite\",\"leche\",\"carne\",\"huevos\",\"pan\"]\n",
    "print(lista_compra)\n",
    "lista_compra.extend(\"pasta\")#extend agrega elementos uno por uno al final de la lista\n",
    "print(lista_compra)"
   ]
  },
  {
   "cell_type": "code",
   "execution_count": 10,
   "id": "34661860",
   "metadata": {},
   "outputs": [
    {
     "name": "stdout",
     "output_type": "stream",
     "text": [
      "[['arroz', 'aceite', 'leche', 'carne', 'huevos', 'pan'], ['tomate', 'cebolla', 'zanahoria'], ['pollo', 'res', 'pescado']]\n"
     ]
    }
   ],
   "source": [
    "# cuando usar extend o append\n",
    "\n",
    "carrito=[]\n",
    "lista_compra=[\"arroz\",\"aceite\",\"leche\",\"carne\",\"huevos\",\"pan\"]\n",
    "lista_verduras=[\"tomate\",\"cebolla\",\"zanahoria\"]\n",
    "lista_carne=[\"pollo\",\"res\",\"pescado\"]\n",
    "\n",
    "#usar append cuando quiero tener cada cosa por categoria\n",
    "#creo una lista de listas\n",
    "carrito.append(lista_compra)\n",
    "carrito.append(lista_verduras)\n",
    "carrito.append(lista_carne)\n",
    "print(carrito)\n"
   ]
  },
  {
   "cell_type": "code",
   "execution_count": 11,
   "id": "d0b00f1d",
   "metadata": {},
   "outputs": [
    {
     "name": "stdout",
     "output_type": "stream",
     "text": [
      "['arroz', 'aceite', 'leche', 'carne', 'huevos', 'pan', 'tomate', 'cebolla', 'zanahoria', 'pollo', 'res', 'pescado']\n"
     ]
    }
   ],
   "source": [
    "carrito=[]\n",
    "lista_compra=[\"arroz\",\"aceite\",\"leche\",\"carne\",\"huevos\",\"pan\"]\n",
    "lista_verduras=[\"tomate\",\"cebolla\",\"zanahoria\"]\n",
    "lista_carne=[\"pollo\",\"res\",\"pescado\"]\n",
    "\n",
    "#usar extend cuando quiero tener cada cosa separada\n",
    "#creo una lista de listas\n",
    "carrito.extend(lista_compra)\n",
    "carrito.extend(lista_verduras)\n",
    "carrito.extend(lista_carne)\n",
    "print(carrito)"
   ]
  },
  {
   "cell_type": "code",
   "execution_count": 16,
   "id": "7c9961a0",
   "metadata": {},
   "outputs": [
    {
     "name": "stdout",
     "output_type": "stream",
     "text": [
      "['arroz', 'mantequilla', 'aceite', 'leche', 'carne', 'huevos', 'pan']\n"
     ]
    }
   ],
   "source": [
    "# metodo insert\n",
    "lista_compra=[\"arroz\",\"aceite\",\"leche\",\"carne\",\"huevos\",\"pan\"]\n",
    "lista_compra.insert(1,\"mantequilla\") # agrega algo en una posicion especifica\n",
    "print(lista_compra)\n"
   ]
  },
  {
   "cell_type": "markdown",
   "id": "523e1116",
   "metadata": {},
   "source": [
    "# Eliminar datos"
   ]
  },
  {
   "cell_type": "code",
   "execution_count": 12,
   "id": "af015f99",
   "metadata": {},
   "outputs": [
    {
     "name": "stdout",
     "output_type": "stream",
     "text": [
      "['arroz', 'aceite', 'leche', 'carne', 'huevos', 'pan']\n",
      "['arroz', 'aceite', 'carne', 'huevos', 'pan']\n"
     ]
    }
   ],
   "source": [
    "#borrar por index\n",
    "\n",
    "lista_compra=[\"arroz\",\"aceite\",\"leche\",\"carne\",\"huevos\",\"pan\"]\n",
    "print(lista_compra)\n",
    "del lista_compra[2] # delete un elemento segun el index\n",
    "print(lista_compra)"
   ]
  },
  {
   "cell_type": "code",
   "execution_count": 17,
   "id": "0083234f",
   "metadata": {},
   "outputs": [
    {
     "name": "stdout",
     "output_type": "stream",
     "text": [
      "['arroz', 'aceite', 'leche', 'carne', 'huevos', 'pan']\n",
      "['arroz', 'aceite', 'leche', 'huevos', 'pan']\n"
     ]
    }
   ],
   "source": [
    "# borrar algo especifico por buscador\n",
    "lista_compra=[\"arroz\",\"aceite\",\"leche\",\"carne\",\"huevos\",\"pan\"]\n",
    "print(lista_compra)\n",
    "lista_compra.remove(\"carne\")\n",
    "print(lista_compra)"
   ]
  },
  {
   "cell_type": "code",
   "execution_count": 21,
   "id": "87fb5b37",
   "metadata": {},
   "outputs": [
    {
     "name": "stdout",
     "output_type": "stream",
     "text": [
      "['s', 'l', 's', 'l', 'm', 's', 's', 'm', 's', 'm', 's', 'l', 's', 's', 's']\n",
      "existen 15 camisetas de Guns & roses talla s\n",
      "\n",
      "['l', 's', 'l', 'm', 's', 's', 'm', 's', 'm', 's', 'l', 's', 's', 's']\n",
      "existen 14 camisetas de Guns & roses talla s\n",
      "\n",
      "['l', 'l', 'm', 's', 's', 'm', 's', 'm', 's', 'l', 's', 's', 's']\n",
      "existen 13 camisetas de Guns & roses talla s\n",
      "\n",
      "['l', 'l', 'm', 's', 'm', 's', 'm', 's', 'l', 's', 's', 's']\n",
      "existen 12 camisetas de Guns & roses talla s\n"
     ]
    }
   ],
   "source": [
    "# tengo una tienda de ropa con varias prendas iguales en stock\n",
    "\n",
    "camisetas_de_Guns=[\"s\",\"l\",\"s\",\"l\",\"m\",\"s\",\"s\",\"m\",\"s\",\"m\",\"s\",\"l\",\"s\",\"s\",\"s\"]\n",
    "#cuando hay elementos repetidos y aplico remove\n",
    "#elimina siempre el primer item repetido que encuentre\n",
    "def count():\n",
    "    contador=0\n",
    "    for i in camisetas_de_Guns:\n",
    "\n",
    "    if \"s\" in camisetas_de_Guns: # con \"in\" miro si existe un elemento en la lista\n",
    "            contador+=1\n",
    "    print(f\"existen {contador} camisetas de Guns & roses talla s\")       \n",
    "\n",
    "def vendi_s():\n",
    "    camisetas_de_Guns.remove(\"s\")\n",
    "   \n",
    "print(camisetas_de_Guns)\n",
    "count()\n",
    "\n",
    "camisetas_vendidas=3\n",
    "for i in range(1,camisetas_vendidas+1,1):\n",
    "    vendi_s()\n",
    "    print()\n",
    "    print(camisetas_de_Guns)\n",
    "    count()\n",
    "\n",
    "\n"
   ]
  },
  {
   "cell_type": "code",
   "execution_count": 25,
   "id": "3e556af1",
   "metadata": {},
   "outputs": [
    {
     "name": "stdout",
     "output_type": "stream",
     "text": [
      "['s', 'l', 's', 'l', 'm', 's', 's', 'm', 's', 'm', 's', 'l', 's', 's', 's']\n",
      "lo que se vendio fue: s\n",
      "lo que se vendio fue: s\n",
      "lo que se vendio fue: s\n",
      "lo que se vendio fue: l\n",
      "lo que se vendio fue: s\n",
      "['s', 'l', 's', 'l', 'm', 's', 's', 'm', 's', 'm']\n"
     ]
    }
   ],
   "source": [
    "# .pop(), elimina el ultimo item y lo retorna\n",
    "\n",
    "\n",
    "camisetas_de_Guns=[\"s\",\"l\",\"s\",\"l\",\"m\",\"s\",\"s\",\"m\",\"s\",\"m\",\"s\",\"l\",\"s\",\"s\",\"s\"]\n",
    "\n",
    "def vendi():\n",
    "    return camisetas_de_Guns.pop()\n",
    "   \n",
    "print(camisetas_de_Guns)\n",
    "\n",
    "camisetas_vendidas=5\n",
    "for i in range(1,camisetas_vendidas+1,1):\n",
    "    print(f\"lo que se vendio fue: {vendi()}\")\n",
    "print(camisetas_de_Guns)\n",
    "    "
   ]
  },
  {
   "cell_type": "code",
   "execution_count": 27,
   "id": "32a3e5e9",
   "metadata": {},
   "outputs": [
    {
     "name": "stdout",
     "output_type": "stream",
     "text": [
      "['s', 'l', 's', 'l', 'm', 's', 's', 'm', 's', 'm', 's', 'l', 's', 's', 's']\n",
      "lo vendido fue :m\n",
      "['s', 'l', 's', 'l', 's', 's', 'm', 's', 'm', 's', 'l', 's', 's', 's']\n"
     ]
    }
   ],
   "source": [
    "camisetas_de_Guns=[\"s\",\"l\",\"s\",\"l\",\"m\",\"s\",\"s\",\"m\",\"s\",\"m\",\"s\",\"l\",\"s\",\"s\",\"s\"]\n",
    "print(camisetas_de_Guns)\n",
    "vendido=camisetas_de_Guns.pop(4) # pop deja borrar por index\n",
    "print(f\"lo vendido fue :{vendido}\")\n",
    "print(camisetas_de_Guns)"
   ]
  },
  {
   "cell_type": "markdown",
   "id": "a6943cd0",
   "metadata": {},
   "source": [
    "# multiplicarlas"
   ]
  },
  {
   "cell_type": "code",
   "execution_count": 28,
   "id": "f00ed7e5",
   "metadata": {},
   "outputs": [
    {
     "name": "stdout",
     "output_type": "stream",
     "text": [
      "['s', 'l', 's', 'l', 'm', 's', 's', 'm', 's', 'm', 's', 'l', 's', 's', 's', 's', 'l', 's', 'l', 'm', 's', 's', 'm', 's', 'm', 's', 'l', 's', 's', 's', 's', 'l', 's', 'l', 'm', 's', 's', 'm', 's', 'm', 's', 'l', 's', 's', 's', 's', 'l', 's', 'l', 'm', 's', 's', 'm', 's', 'm', 's', 'l', 's', 's', 's', 's', 'l', 's', 'l', 'm', 's', 's', 'm', 's', 'm', 's', 'l', 's', 's', 's']\n"
     ]
    }
   ],
   "source": [
    "camisetas_de_Guns=[\"s\",\"l\",\"s\",\"l\",\"m\",\"s\",\"s\",\"m\",\"s\",\"m\",\"s\",\"l\",\"s\",\"s\",\"s\"]\n",
    "stock=camisetas_de_Guns*5\n",
    "print(stock)"
   ]
  },
  {
   "cell_type": "markdown",
   "id": "9203a6de",
   "metadata": {},
   "source": [
    "# particionar -> SLICING"
   ]
  },
  {
   "cell_type": "code",
   "execution_count": 36,
   "id": "7b0e282c",
   "metadata": {},
   "outputs": [
    {
     "name": "stdout",
     "output_type": "stream",
     "text": [
      "[0, 1, 2, 3, 4, 5, 6, 7, 8, 9, 10, 11, 12, 13, 14, 15, 16, 17, 18, 19, 20]\n",
      "[1, 2, 3, 4, 5, 6, 7, 8, 9, 10]\n"
     ]
    }
   ],
   "source": [
    "# partir  en rangos definidos\n",
    "\n",
    "lista=list(range(0,21,1))\n",
    "print(lista)\n",
    "lista_recortada=lista[1:11:1] #[inicio:fin-1:paso]\n",
    "print(lista_recortada)"
   ]
  },
  {
   "cell_type": "code",
   "execution_count": 45,
   "id": "8cf96212",
   "metadata": {},
   "outputs": [
    {
     "name": "stdout",
     "output_type": "stream",
     "text": [
      "[2, 4, 6, 8, 10, 12, 14, 16, 18, 20, 22, 24, 26, 28, 30, 32, 34, 36, 38, 40, 42, 44, 46, 48, 50, 52, 54, 56, 58, 60, 62, 64, 66, 68, 70, 72, 74, 76, 78, 80, 82, 84, 86, 88, 90, 92, 94, 96, 98, 100]\n"
     ]
    }
   ],
   "source": [
    "# lista de todos los pares del 1 al 100\n",
    "lista=list(range(0,101,1))\n",
    "lista_recortada=lista[2::2] #[inicio:fin-1:paso]\n",
    "print(lista_recortada)"
   ]
  },
  {
   "cell_type": "markdown",
   "id": "e2ccee1e",
   "metadata": {},
   "source": [
    "# varios"
   ]
  },
  {
   "cell_type": "code",
   "execution_count": 50,
   "id": "3e605acc",
   "metadata": {},
   "outputs": [
    {
     "name": "stdout",
     "output_type": "stream",
     "text": [
      "9\n",
      "9\n",
      "1\n",
      "45\n"
     ]
    }
   ],
   "source": [
    "lista=list(range(1,10,1))\n",
    "print(len(lista)) # cantidad de elementos\n",
    "print(max(lista)) #valor maximo\n",
    "print(min(lista)) #valor minimo\n",
    "print(sum(lista)) #suma de todos los elementos"
   ]
  },
  {
   "cell_type": "markdown",
   "id": "e2a7aaa2",
   "metadata": {},
   "source": [
    "# ordenar"
   ]
  },
  {
   "cell_type": "code",
   "execution_count": 49,
   "id": "00f14e4b",
   "metadata": {},
   "outputs": [
    {
     "name": "stdout",
     "output_type": "stream",
     "text": [
      "['l', 'l', 'l', 'm', 'm', 'm', 's', 's', 's', 's', 's', 's', 's', 's', 's']\n",
      "['s', 's', 's', 's', 's', 's', 's', 's', 's', 'm', 'm', 'm', 'l', 'l', 'l']\n"
     ]
    }
   ],
   "source": [
    "camisetas_de_Guns=[\"s\",\"l\",\"s\",\"l\",\"m\",\"s\",\"s\",\"m\",\"s\",\"m\",\"s\",\"l\",\"s\",\"s\",\"s\"]\n",
    "camisetas_de_Guns.sort() # ordena de menor a mayor\n",
    "print(camisetas_de_Guns)\n",
    "camisetas_de_Guns.sort(reverse=True) # ordena de menor a mayor\n",
    "print(camisetas_de_Guns)"
   ]
  }
 ],
 "metadata": {
  "kernelspec": {
   "display_name": "Python 3 (ipykernel)",
   "language": "python",
   "name": "python3"
  },
  "language_info": {
   "codemirror_mode": {
    "name": "ipython",
    "version": 3
   },
   "file_extension": ".py",
   "mimetype": "text/x-python",
   "name": "python",
   "nbconvert_exporter": "python",
   "pygments_lexer": "ipython3",
   "version": "3.9.13"
  }
 },
 "nbformat": 4,
 "nbformat_minor": 5
}
